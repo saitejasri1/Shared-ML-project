{
  "nbformat": 4,
  "nbformat_minor": 0,
  "metadata": {
    "colab": {
      "provenance": [],
      "mount_file_id": "1Z5JLpSjQa2KJkL1JEuK27diPuhRiXLoS",
      "authorship_tag": "ABX9TyPxtdjhMBwooTM9QvuMvRSl",
      "include_colab_link": true
    },
    "kernelspec": {
      "name": "python3",
      "display_name": "Python 3"
    },
    "language_info": {
      "name": "python"
    }
  },
  "cells": [
    {
      "cell_type": "markdown",
      "metadata": {
        "id": "view-in-github",
        "colab_type": "text"
      },
      "source": [
        "<a href=\"https://colab.research.google.com/github/saitejasri1/Shared-ML-project/blob/main/PaddleOCR-final.ipynb\" target=\"_parent\"><img src=\"https://colab.research.google.com/assets/colab-badge.svg\" alt=\"Open In Colab\"/></a>"
      ]
    },
    {
      "cell_type": "code",
      "execution_count": 15,
      "metadata": {
        "id": "hZIqqhBhvjEh",
        "colab": {
          "base_uri": "https://localhost:8080/"
        },
        "outputId": "d5e2bea5-65b5-4b15-d86c-4e339ad5467b"
      },
      "outputs": [
        {
          "output_type": "stream",
          "name": "stdout",
          "text": [
            "{'beans'}\n"
          ]
        }
      ],
      "source": [
        "from paddleocr import PaddleOCR\n",
        "from PIL import Image\n",
        "import numpy as np\n",
        "from googletrans import Translator\n",
        "from langdetect import detect\n",
        "import logging\n",
        "\n",
        "# Suppress debug messages from ppocr\n",
        "logging.getLogger(\"ppocr\").setLevel(logging.WARNING)\n",
        "logging.getLogger(\"ppocr\").setLevel(logging.ERROR)\n",
        "\n",
        "def detect_ingredients_from_image(image_path):\n",
        "    \"\"\"\n",
        "    Perform OCR on the input image file to detect ingredients.\n",
        "\n",
        "    Args:\n",
        "    image_path (str): Path to the image file.\n",
        "\n",
        "    Returns:\n",
        "    set: Set of detected ingredients.\n",
        "    \"\"\"\n",
        "    # Setup OCR model with English language\n",
        "    ocr_model = PaddleOCR(lang='en')\n",
        "\n",
        "    # Check if the image is in HEIC format\n",
        "    if image_path.lower().endswith('.heic'):\n",
        "        # Convert HEIC image to PNG format\n",
        "        heic_img = Image.open(image_path)\n",
        "        image_np = np.array(heic_img.convert('RGB'))\n",
        "    else:\n",
        "        # Load the image\n",
        "        image = Image.open(image_path)\n",
        "        # Convert image to numpy array\n",
        "        image_np = np.array(image)\n",
        "\n",
        "    # Perform OCR on the image\n",
        "    result = ocr_model.ocr(image_np)\n",
        "\n",
        "    # Extract text from OCR result\n",
        "    text = \"\"\n",
        "    if result is not None:\n",
        "        for line in result:\n",
        "            for word in line:\n",
        "                text += word[1][0] + ' '\n",
        "    else:\n",
        "        print(\"No text detected in image:\", image_path)\n",
        "\n",
        "    # Check if the detected text is in English\n",
        "    if detect(text) != 'en':\n",
        "        # Translate text to English\n",
        "        translator = Translator()\n",
        "        translated = translator.translate(text, src='auto', dest='en')\n",
        "        text = translated.text\n",
        "\n",
        "    # Define the list of ingredients\n",
        "    ingredients = {'beans', 'salt', 'butter', 'sugar', 'onion', 'water', 'eggs', 'oliveoil', 'flour', 'milk',\n",
        "                   'garliccloves', 'pepper', 'brownsugar', 'garlic', 'all-purposeflour', 'bakingpowder', 'egg',\n",
        "                   'saltandpepper', 'parmesancheese', 'lemonjuice', 'bakingsoda', 'vegetableoil', 'vanilla',\n",
        "                   'blackpepper', 'cinnamon', 'tomatoes', 'sourcream', 'garlicpowder', 'vanillaextract', 'oil',\n",
        "                   'honey', 'onions', 'creamcheese', 'garlicclove', 'celery', 'cheddarcheese', 'unsaltedbutter',\n",
        "                   'soysauce'}\n",
        "\n",
        "    # Convert text to lowercase and split into words\n",
        "    text = text.lower().split()\n",
        "\n",
        "    # Find intersection of detected ingredients and predefined ingredients list\n",
        "    detected_ingredients = ingredients.intersection(text)\n",
        "\n",
        "    return detected_ingredients\n",
        "\n",
        "\n",
        "# Example usage:\n",
        "image_path = \"/content/drive/MyDrive/do-not-delete/ML-Project/Images/beans.jpg\"\n",
        "detected_ingredients = detect_ingredients_from_image(image_path)\n",
        "print(detected_ingredients)\n"
      ]
    },
    {
      "cell_type": "code",
      "source": [
        "from google.colab import drive\n",
        "drive.mount('/content/drive')"
      ],
      "metadata": {
        "colab": {
          "base_uri": "https://localhost:8080/"
        },
        "id": "QcoQNReRGBsD",
        "outputId": "6dfca360-f6bc-45db-86ec-6f2356d034f3"
      },
      "execution_count": 12,
      "outputs": [
        {
          "output_type": "stream",
          "name": "stdout",
          "text": [
            "Drive already mounted at /content/drive; to attempt to forcibly remount, call drive.mount(\"/content/drive\", force_remount=True).\n"
          ]
        }
      ]
    },
    {
      "cell_type": "code",
      "source": [
        "!pip install paddlepaddle-gpu==2.3.0 -i https://mirror.baidu.com/pypi/simple\n",
        "!pip install paddleocr\n",
        "# git clone https://github.com/PaddlePaddle/PaddleOCR\n",
        "!pip install PaddleOCR\n",
        "!pip install langdetect\n",
        "!pip install paddlepaddle\n",
        "\n",
        "#German to English\n",
        "\n",
        "!pip install googletrans==4.0.0-rc1"
      ],
      "metadata": {
        "id": "mxb5f_NaE1n4"
      },
      "execution_count": null,
      "outputs": []
    },
    {
      "cell_type": "code",
      "source": [
        "!pip install paddle"
      ],
      "metadata": {
        "id": "xsGI1bcKDupW"
      },
      "execution_count": null,
      "outputs": []
    },
    {
      "cell_type": "code",
      "source": [
        "!pip install paddleocr\n",
        "!pip install googletrans\n",
        "!pip install langdetect"
      ],
      "metadata": {
        "id": "hnn28FtIBiG8"
      },
      "execution_count": null,
      "outputs": []
    }
  ]
}