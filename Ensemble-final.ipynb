{
  "cells": [
    {
      "cell_type": "markdown",
      "metadata": {
        "id": "view-in-github",
        "colab_type": "text"
      },
      "source": [
        "<a href=\"https://colab.research.google.com/github/saitejasri1/Shared-ML-project/blob/main/Ensemble-final.ipynb\" target=\"_parent\"><img src=\"https://colab.research.google.com/assets/colab-badge.svg\" alt=\"Open In Colab\"/></a>"
      ]
    },
    {
      "cell_type": "code",
      "execution_count": 1,
      "metadata": {
        "_cell_guid": "b1076dfc-b9ad-4769-8c92-a6c4dae69d19",
        "_uuid": "8f2839f25d086af736a60e9eeb907d3b93b6e0e5",
        "execution": {
          "iopub.execute_input": "2024-04-08T03:24:13.831370Z",
          "iopub.status.busy": "2024-04-08T03:24:13.830996Z",
          "iopub.status.idle": "2024-04-08T03:24:29.312151Z",
          "shell.execute_reply": "2024-04-08T03:24:29.311300Z",
          "shell.execute_reply.started": "2024-04-08T03:24:13.831338Z"
        },
        "trusted": true,
        "id": "juFIzGQ3UhF1"
      },
      "outputs": [],
      "source": [
        "import pandas as pd\n",
        "import math\n",
        "import numpy as np\n",
        "import matplotlib.pyplot as plt\n",
        "import tensorflow as tf\n",
        "import tensorflow_datasets as tfds\n",
        "import os\n",
        "\n",
        "from sklearn.metrics import *\n",
        "\n",
        "from tensorflow.keras.preprocessing.image import *\n",
        "from tensorflow.keras.models import *\n",
        "from tensorflow.keras.layers import *\n",
        "from tensorflow.keras.utils import *\n",
        "from tensorflow.keras import *\n",
        "from tensorflow.keras.optimizers import *\n",
        "from tensorflow.keras import models"
      ]
    },
    {
      "cell_type": "code",
      "source": [
        "from google.colab import drive\n",
        "drive.mount('/content/drive')"
      ],
      "metadata": {
        "colab": {
          "base_uri": "https://localhost:8080/"
        },
        "id": "LXsdMxLvpWmf",
        "outputId": "ffc4c425-6d55-4eaa-a165-3f39abb8a4d2"
      },
      "execution_count": 2,
      "outputs": [
        {
          "output_type": "stream",
          "name": "stdout",
          "text": [
            "Drive already mounted at /content/drive; to attempt to forcibly remount, call drive.mount(\"/content/drive\", force_remount=True).\n"
          ]
        }
      ]
    },
    {
      "cell_type": "code",
      "execution_count": 3,
      "metadata": {
        "execution": {
          "iopub.execute_input": "2024-04-08T01:49:06.226066Z",
          "iopub.status.busy": "2024-04-08T01:49:06.225454Z",
          "iopub.status.idle": "2024-04-08T01:49:09.282559Z",
          "shell.execute_reply": "2024-04-08T01:49:09.281591Z",
          "shell.execute_reply.started": "2024-04-08T01:49:06.226034Z"
        },
        "trusted": true,
        "id": "sx1SAZa-UhF3",
        "outputId": "947be499-54c9-47cd-d700-aaa8c8bfe5e6",
        "colab": {
          "base_uri": "https://localhost:8080/"
        }
      },
      "outputs": [
        {
          "output_type": "stream",
          "name": "stdout",
          "text": [
            "Found 359 files belonging to 36 classes.\n"
          ]
        }
      ],
      "source": [
        "base_dir = os.path.expanduser(\"/content/drive/MyDrive/do-not-delete/ML-Project/fruit-and-vegetable-image-recognition/test\")\n",
        "\n",
        "test = tf.keras.preprocessing.image_dataset_from_directory(\n",
        "    base_dir,\n",
        "    seed=100,\n",
        "    image_size=(224, 224),\n",
        "    batch_size=256,\n",
        "    shuffle=True,\n",
        "    label_mode=\"int\"\n",
        ")"
      ]
    },
    {
      "cell_type": "code",
      "execution_count": 4,
      "metadata": {
        "id": "P8poGQtiUhF4"
      },
      "outputs": [],
      "source": [
        "VGG16 = load_model('/content/drive/MyDrive/do-not-delete/ML-Project/VGG16.keras')\n",
        "DenseNet121 = load_model('/content/drive/MyDrive/do-not-delete/ML-Project/InceptionV3.keras')\n",
        "InceptionV3 = load_model('/content/drive/MyDrive/do-not-delete/ML-Project/InceptionV3.keras')"
      ]
    },
    {
      "cell_type": "code",
      "execution_count": 5,
      "metadata": {
        "id": "Ls62Ff-MUhF6",
        "outputId": "8e9ff40e-b4e5-4670-ba72-041bb291ef70",
        "colab": {
          "base_uri": "https://localhost:8080/"
        }
      },
      "outputs": [
        {
          "output_type": "stream",
          "name": "stdout",
          "text": [
            "\u001b[1m1/1\u001b[0m \u001b[32m━━━━━━━━━━━━━━━━━━━━\u001b[0m\u001b[37m\u001b[0m \u001b[1m2s\u001b[0m 2s/step\n",
            "\u001b[1m1/1\u001b[0m \u001b[32m━━━━━━━━━━━━━━━━━━━━\u001b[0m\u001b[37m\u001b[0m \u001b[1m6s\u001b[0m 6s/step\n",
            "\u001b[1m1/1\u001b[0m \u001b[32m━━━━━━━━━━━━━━━━━━━━\u001b[0m\u001b[37m\u001b[0m \u001b[1m12s\u001b[0m 12s/step\n",
            "output is potato\n"
          ]
        }
      ],
      "source": [
        "input_image_name = \"/content/drive/MyDrive/do-not-delete/ML-Project/Images/Potato-800x800.jpg\"\n",
        "\n",
        "input_image = tf.io.read_file(input_image_name)\n",
        "image = tf.image.decode_image(input_image, channels=3)\n",
        "\n",
        "image = tf.image.resize(image, size=(224, 224))\n",
        "\n",
        "image = image / 255.0\n",
        "\n",
        "image = tf.expand_dims(image, axis=0)\n",
        "\n",
        "pred_probs_VGG16 = VGG16.predict(image)\n",
        "pred_probs_DenseNet121 = DenseNet121.predict(image)\n",
        "pred_probs_InceptionV3 = InceptionV3.predict(image)\n",
        "\n",
        "ensemble_pred = np.maximum.reduce([pred_probs_VGG16, pred_probs_DenseNet121, pred_probs_InceptionV3])\n",
        "\n",
        "predicted_label = np.argmax(ensemble_pred)\n",
        "pred_prob = ensemble_pred[0][predicted_label]\n",
        "\n",
        "class_names = test.class_names\n",
        "\n",
        "x = class_names[predicted_label]\n",
        "\n",
        "print(\"output is\",x)"
      ]
    },
    {
      "cell_type": "code",
      "source": [
        "!pip install --upgrade tensorflow"
      ],
      "metadata": {
        "id": "EPXYWqTm7dm7"
      },
      "execution_count": null,
      "outputs": []
    }
  ],
  "metadata": {
    "kaggle": {
      "accelerator": "nvidiaTeslaT4",
      "dataSources": [
        {
          "datasetId": 952827,
          "sourceId": 3173719,
          "sourceType": "datasetVersion"
        }
      ],
      "dockerImageVersionId": 30673,
      "isGpuEnabled": true,
      "isInternetEnabled": true,
      "language": "python",
      "sourceType": "notebook"
    },
    "kernelspec": {
      "display_name": "Python 3",
      "language": "python",
      "name": "python3"
    },
    "language_info": {
      "codemirror_mode": {
        "name": "ipython",
        "version": 3
      },
      "file_extension": ".py",
      "mimetype": "text/x-python",
      "name": "python",
      "nbconvert_exporter": "python",
      "pygments_lexer": "ipython3",
      "version": "3.12.2"
    },
    "colab": {
      "provenance": [],
      "include_colab_link": true
    }
  },
  "nbformat": 4,
  "nbformat_minor": 0
}