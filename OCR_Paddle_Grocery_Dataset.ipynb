{
 "cells": [
  {
   "cell_type": "code",
   "execution_count": 2,
   "metadata": {},
   "outputs": [
    {
     "name": "stdout",
     "output_type": "stream",
     "text": [
      "Looking in indexes: https://mirror.baidu.com/pypi/simple\n",
      "Collecting paddlepaddle-gpu==2.3.0\n",
      "  Downloading https://mirror.baidu.com/pypi/packages/47/15/7f2c1ff12d71ca3b68faa3e7675cee27b7162a01bc839161c7b9a11d38fb/paddlepaddle_gpu-2.3.0-cp310-cp310-manylinux1_x86_64.whl (576.1 MB)\n",
      "\u001b[2K     \u001b[90m━━━━━━━━━━━━━━━━━━━━━━━━━━━━━━━━━━━━━━━\u001b[0m \u001b[32m576.1/576.1 MB\u001b[0m \u001b[31m6.4 MB/s\u001b[0m eta \u001b[36m0:00:00\u001b[0m00:01\u001b[0m00:02\u001b[0m\n",
      "\u001b[?25hRequirement already satisfied: requests>=2.20.0 in /home/rravindra0463@id.sdsu.edu/.venv/lib/python3.10/site-packages (from paddlepaddle-gpu==2.3.0) (2.31.0)\n",
      "Requirement already satisfied: numpy>=1.13 in /home/rravindra0463@id.sdsu.edu/.venv/lib/python3.10/site-packages (from paddlepaddle-gpu==2.3.0) (1.26.4)\n",
      "Collecting protobuf>=3.1.0 (from paddlepaddle-gpu==2.3.0)\n",
      "  Downloading https://mirror.baidu.com/pypi/packages/39/3f/16bdd9d43b024c1d178e817826e4e1ca8a25da3faff1e7566f341094143d/protobuf-5.26.0-cp37-abi3-manylinux2014_x86_64.whl (302 kB)\n",
      "\u001b[2K     \u001b[90m━━━━━━━━━━━━━━━━━━━━━━━━━━━━━━━━━━━━━━\u001b[0m \u001b[32m302.8/302.8 kB\u001b[0m \u001b[31m11.5 MB/s\u001b[0m eta \u001b[36m0:00:00\u001b[0m\n",
      "\u001b[?25hRequirement already satisfied: Pillow in /home/rravindra0463@id.sdsu.edu/.venv/lib/python3.10/site-packages (from paddlepaddle-gpu==2.3.0) (10.2.0)\n",
      "Requirement already satisfied: six in /home/rravindra0463@id.sdsu.edu/.venv/lib/python3.10/site-packages (from paddlepaddle-gpu==2.3.0) (1.16.0)\n",
      "Requirement already satisfied: decorator in /home/rravindra0463@id.sdsu.edu/.venv/lib/python3.10/site-packages (from paddlepaddle-gpu==2.3.0) (5.1.1)\n",
      "Collecting astor (from paddlepaddle-gpu==2.3.0)\n",
      "  Downloading https://mirror.baidu.com/pypi/packages/c3/88/97eef84f48fa04fbd6750e62dcceafba6c63c81b7ac1420856c8dcc0a3f9/astor-0.8.1-py2.py3-none-any.whl (27 kB)\n",
      "Collecting paddle-bfloat==0.1.2 (from paddlepaddle-gpu==2.3.0)\n",
      "  Downloading https://mirror.baidu.com/pypi/packages/5d/3c/64d02d0df9cd43f03da6bf50987ba7bed335f8224ce7a1876ba280722c71/paddle_bfloat-0.1.2-cp310-cp310-manylinux_2_5_x86_64.manylinux1_x86_64.manylinux_2_12_x86_64.manylinux2010_x86_64.whl (375 kB)\n",
      "\u001b[2K     \u001b[90m━━━━━━━━━━━━━━━━━━━━━━━━━━━━━━━━━━━━━━\u001b[0m \u001b[32m375.7/375.7 kB\u001b[0m \u001b[31m10.6 MB/s\u001b[0m eta \u001b[36m0:00:00\u001b[0m00:01\u001b[0m\n",
      "\u001b[?25hCollecting opt-einsum==3.3.0 (from paddlepaddle-gpu==2.3.0)\n",
      "  Downloading https://mirror.baidu.com/pypi/packages/bc/19/404708a7e54ad2798907210462fd950c3442ea51acc8790f3da48d2bee8b/opt_einsum-3.3.0-py3-none-any.whl (65 kB)\n",
      "\u001b[2K     \u001b[90m━━━━━━━━━━━━━━━━━━━━━━━━━━━━━━━━━━━━━━━━\u001b[0m \u001b[32m65.5/65.5 kB\u001b[0m \u001b[31m7.5 MB/s\u001b[0m eta \u001b[36m0:00:00\u001b[0m\n",
      "\u001b[?25hRequirement already satisfied: charset-normalizer<4,>=2 in /home/rravindra0463@id.sdsu.edu/.venv/lib/python3.10/site-packages (from requests>=2.20.0->paddlepaddle-gpu==2.3.0) (3.3.2)\n",
      "Requirement already satisfied: idna<4,>=2.5 in /home/rravindra0463@id.sdsu.edu/.venv/lib/python3.10/site-packages (from requests>=2.20.0->paddlepaddle-gpu==2.3.0) (3.6)\n",
      "Requirement already satisfied: urllib3<3,>=1.21.1 in /home/rravindra0463@id.sdsu.edu/.venv/lib/python3.10/site-packages (from requests>=2.20.0->paddlepaddle-gpu==2.3.0) (2.2.1)\n",
      "Requirement already satisfied: certifi>=2017.4.17 in /home/rravindra0463@id.sdsu.edu/.venv/lib/python3.10/site-packages (from requests>=2.20.0->paddlepaddle-gpu==2.3.0) (2024.2.2)\n",
      "Installing collected packages: paddle-bfloat, protobuf, opt-einsum, astor, paddlepaddle-gpu\n",
      "Successfully installed astor-0.8.1 opt-einsum-3.3.0 paddle-bfloat-0.1.2 paddlepaddle-gpu-2.3.0 protobuf-5.26.0\n"
     ]
    }
   ],
   "source": [
    "# GitHub repo installation of paddle\n",
    "!python -m pip install paddlepaddle-gpu==2.3.0 -i https://mirror.baidu.com/pypi/simple"
   ]
  },
  {
   "cell_type": "code",
   "execution_count": 3,
   "metadata": {},
   "outputs": [
    {
     "name": "stdout",
     "output_type": "stream",
     "text": [
      "Collecting paddleocr\n",
      "  Downloading paddleocr-2.7.0.3-py3-none-any.whl.metadata (26 kB)\n",
      "Collecting shapely (from paddleocr)\n",
      "  Downloading shapely-2.0.3-cp310-cp310-manylinux_2_17_x86_64.manylinux2014_x86_64.whl.metadata (7.0 kB)\n",
      "Collecting scikit-image (from paddleocr)\n",
      "  Downloading scikit_image-0.22.0-cp310-cp310-manylinux_2_17_x86_64.manylinux2014_x86_64.whl.metadata (13 kB)\n",
      "Collecting imgaug (from paddleocr)\n",
      "  Downloading imgaug-0.4.0-py2.py3-none-any.whl.metadata (1.8 kB)\n",
      "Collecting pyclipper (from paddleocr)\n",
      "  Downloading pyclipper-1.3.0.post5-cp310-cp310-manylinux_2_12_x86_64.manylinux2010_x86_64.whl.metadata (9.0 kB)\n",
      "Collecting lmdb (from paddleocr)\n",
      "  Downloading lmdb-1.4.1-cp310-cp310-manylinux_2_17_x86_64.manylinux2014_x86_64.whl.metadata (1.2 kB)\n",
      "Requirement already satisfied: tqdm in /home/rravindra0463@id.sdsu.edu/.venv/lib/python3.10/site-packages (from paddleocr) (4.66.2)\n",
      "Requirement already satisfied: numpy in /home/rravindra0463@id.sdsu.edu/.venv/lib/python3.10/site-packages (from paddleocr) (1.26.4)\n",
      "Collecting visualdl (from paddleocr)\n",
      "  Downloading visualdl-2.5.3-py3-none-any.whl.metadata (25 kB)\n",
      "Collecting rapidfuzz (from paddleocr)\n",
      "  Downloading rapidfuzz-3.7.0-cp310-cp310-manylinux_2_17_x86_64.manylinux2014_x86_64.whl.metadata (11 kB)\n",
      "Collecting opencv-python<=4.6.0.66 (from paddleocr)\n",
      "  Downloading opencv_python-4.6.0.66-cp36-abi3-manylinux_2_17_x86_64.manylinux2014_x86_64.whl.metadata (18 kB)\n",
      "Collecting opencv-contrib-python<=4.6.0.66 (from paddleocr)\n",
      "  Downloading opencv_contrib_python-4.6.0.66-cp36-abi3-manylinux_2_17_x86_64.manylinux2014_x86_64.whl.metadata (18 kB)\n",
      "Collecting cython (from paddleocr)\n",
      "  Downloading Cython-3.0.9-cp310-cp310-manylinux_2_17_x86_64.manylinux2014_x86_64.whl.metadata (3.2 kB)\n",
      "Collecting lxml (from paddleocr)\n",
      "  Downloading lxml-5.1.0-cp310-cp310-manylinux_2_17_x86_64.manylinux2014_x86_64.whl.metadata (3.5 kB)\n",
      "Collecting premailer (from paddleocr)\n",
      "  Downloading premailer-3.10.0-py2.py3-none-any.whl.metadata (15 kB)\n",
      "Collecting openpyxl (from paddleocr)\n",
      "  Downloading openpyxl-3.1.2-py2.py3-none-any.whl.metadata (2.5 kB)\n",
      "Collecting attrdict (from paddleocr)\n",
      "  Downloading attrdict-2.0.1-py2.py3-none-any.whl.metadata (6.7 kB)\n",
      "Collecting PyMuPDF<1.21.0 (from paddleocr)\n",
      "  Downloading PyMuPDF-1.20.2-cp310-cp310-manylinux_2_17_x86_64.manylinux2014_x86_64.whl.metadata (8.5 kB)\n",
      "Requirement already satisfied: Pillow>=10.0.0 in /home/rravindra0463@id.sdsu.edu/.venv/lib/python3.10/site-packages (from paddleocr) (10.2.0)\n",
      "Requirement already satisfied: pyyaml in /home/rravindra0463@id.sdsu.edu/.venv/lib/python3.10/site-packages (from paddleocr) (6.0.1)\n",
      "Collecting python-docx (from paddleocr)\n",
      "  Downloading python_docx-1.1.0-py3-none-any.whl.metadata (2.0 kB)\n",
      "Collecting beautifulsoup4 (from paddleocr)\n",
      "  Downloading beautifulsoup4-4.12.3-py3-none-any.whl.metadata (3.8 kB)\n",
      "Requirement already satisfied: fonttools>=4.24.0 in /home/rravindra0463@id.sdsu.edu/.venv/lib/python3.10/site-packages (from paddleocr) (4.49.0)\n",
      "Collecting fire>=0.3.0 (from paddleocr)\n",
      "  Downloading fire-0.6.0.tar.gz (88 kB)\n",
      "\u001b[2K     \u001b[90m━━━━━━━━━━━━━━━━━━━━━━━━━━━━━━━━━━━━━━━━\u001b[0m \u001b[32m88.4/88.4 kB\u001b[0m \u001b[31m26.9 MB/s\u001b[0m eta \u001b[36m0:00:00\u001b[0m\n",
      "\u001b[?25h  Installing build dependencies ... \u001b[?25ldone\n",
      "\u001b[?25h  Getting requirements to build wheel ... \u001b[?25ldone\n",
      "\u001b[?25h  Installing backend dependencies ... \u001b[?25ldone\n",
      "\u001b[?25h  Preparing metadata (pyproject.toml) ... \u001b[?25ldone\n",
      "\u001b[?25hCollecting pdf2docx (from paddleocr)\n",
      "  Downloading pdf2docx-0.5.8-py3-none-any.whl.metadata (3.2 kB)\n",
      "Requirement already satisfied: six in /home/rravindra0463@id.sdsu.edu/.venv/lib/python3.10/site-packages (from fire>=0.3.0->paddleocr) (1.16.0)\n",
      "Collecting termcolor (from fire>=0.3.0->paddleocr)\n",
      "  Downloading termcolor-2.4.0-py3-none-any.whl.metadata (6.1 kB)\n",
      "Collecting soupsieve>1.2 (from beautifulsoup4->paddleocr)\n",
      "  Downloading soupsieve-2.5-py3-none-any.whl.metadata (4.7 kB)\n",
      "Requirement already satisfied: scipy in /home/rravindra0463@id.sdsu.edu/.venv/lib/python3.10/site-packages (from imgaug->paddleocr) (1.12.0)\n",
      "Requirement already satisfied: matplotlib in /home/rravindra0463@id.sdsu.edu/.venv/lib/python3.10/site-packages (from imgaug->paddleocr) (3.8.3)\n",
      "Collecting imageio (from imgaug->paddleocr)\n",
      "  Downloading imageio-2.34.0-py3-none-any.whl.metadata (4.9 kB)\n",
      "Requirement already satisfied: networkx>=2.8 in /home/rravindra0463@id.sdsu.edu/.venv/lib/python3.10/site-packages (from scikit-image->paddleocr) (3.2.1)\n",
      "Collecting tifffile>=2022.8.12 (from scikit-image->paddleocr)\n",
      "  Downloading tifffile-2024.2.12-py3-none-any.whl.metadata (31 kB)\n",
      "Requirement already satisfied: packaging>=21 in /home/rravindra0463@id.sdsu.edu/.venv/lib/python3.10/site-packages (from scikit-image->paddleocr) (23.2)\n",
      "Collecting lazy_loader>=0.3 (from scikit-image->paddleocr)\n",
      "  Downloading lazy_loader-0.3-py3-none-any.whl.metadata (4.3 kB)\n",
      "Collecting et-xmlfile (from openpyxl->paddleocr)\n",
      "  Downloading et_xmlfile-1.1.0-py3-none-any.whl.metadata (1.8 kB)\n",
      "Collecting opencv-python-headless>=4.5 (from pdf2docx->paddleocr)\n",
      "  Downloading opencv_python_headless-4.9.0.80-cp37-abi3-manylinux_2_17_x86_64.manylinux2014_x86_64.whl.metadata (20 kB)\n",
      "Requirement already satisfied: typing-extensions in /home/rravindra0463@id.sdsu.edu/.venv/lib/python3.10/site-packages (from python-docx->paddleocr) (4.9.0)\n",
      "Collecting cssselect (from premailer->paddleocr)\n",
      "  Downloading cssselect-1.2.0-py2.py3-none-any.whl.metadata (2.2 kB)\n",
      "Collecting cssutils (from premailer->paddleocr)\n",
      "  Downloading cssutils-2.9.0-py3-none-any.whl.metadata (9.1 kB)\n",
      "Requirement already satisfied: requests in /home/rravindra0463@id.sdsu.edu/.venv/lib/python3.10/site-packages (from premailer->paddleocr) (2.31.0)\n",
      "Collecting cachetools (from premailer->paddleocr)\n",
      "  Downloading cachetools-5.3.3-py3-none-any.whl.metadata (5.3 kB)\n",
      "Collecting bce-python-sdk (from visualdl->paddleocr)\n",
      "  Downloading bce_python_sdk-0.9.5-py3-none-any.whl.metadata (318 bytes)\n",
      "Collecting flask>=1.1.1 (from visualdl->paddleocr)\n",
      "  Downloading flask-3.0.2-py3-none-any.whl.metadata (3.6 kB)\n",
      "Collecting Flask-Babel>=3.0.0 (from visualdl->paddleocr)\n",
      "  Downloading flask_babel-4.0.0-py3-none-any.whl.metadata (1.9 kB)\n",
      "Requirement already satisfied: protobuf>=3.20.0 in /home/rravindra0463@id.sdsu.edu/.venv/lib/python3.10/site-packages (from visualdl->paddleocr) (5.26.0)\n",
      "Requirement already satisfied: pandas in /home/rravindra0463@id.sdsu.edu/.venv/lib/python3.10/site-packages (from visualdl->paddleocr) (2.2.0)\n",
      "Collecting rarfile (from visualdl->paddleocr)\n",
      "  Downloading rarfile-4.1-py3-none-any.whl.metadata (4.4 kB)\n",
      "Requirement already satisfied: psutil in /home/rravindra0463@id.sdsu.edu/.venv/lib/python3.10/site-packages (from visualdl->paddleocr) (5.9.8)\n",
      "Collecting Werkzeug>=3.0.0 (from flask>=1.1.1->visualdl->paddleocr)\n",
      "  Downloading werkzeug-3.0.1-py3-none-any.whl.metadata (4.1 kB)\n",
      "Requirement already satisfied: Jinja2>=3.1.2 in /home/rravindra0463@id.sdsu.edu/.venv/lib/python3.10/site-packages (from flask>=1.1.1->visualdl->paddleocr) (3.1.3)\n",
      "Collecting itsdangerous>=2.1.2 (from flask>=1.1.1->visualdl->paddleocr)\n",
      "  Downloading itsdangerous-2.1.2-py3-none-any.whl.metadata (2.9 kB)\n",
      "Collecting click>=8.1.3 (from flask>=1.1.1->visualdl->paddleocr)\n",
      "  Downloading click-8.1.7-py3-none-any.whl.metadata (3.0 kB)\n",
      "Collecting blinker>=1.6.2 (from flask>=1.1.1->visualdl->paddleocr)\n",
      "  Downloading blinker-1.7.0-py3-none-any.whl.metadata (1.9 kB)\n",
      "Collecting Babel>=2.12 (from Flask-Babel>=3.0.0->visualdl->paddleocr)\n",
      "  Downloading Babel-2.14.0-py3-none-any.whl.metadata (1.6 kB)\n",
      "Requirement already satisfied: pytz>=2022.7 in /home/rravindra0463@id.sdsu.edu/.venv/lib/python3.10/site-packages (from Flask-Babel>=3.0.0->visualdl->paddleocr) (2024.1)\n",
      "Collecting pycryptodome>=3.8.0 (from bce-python-sdk->visualdl->paddleocr)\n",
      "  Downloading pycryptodome-3.20.0-cp35-abi3-manylinux_2_17_x86_64.manylinux2014_x86_64.whl.metadata (3.4 kB)\n",
      "Collecting future>=0.6.0 (from bce-python-sdk->visualdl->paddleocr)\n",
      "  Downloading future-1.0.0-py3-none-any.whl.metadata (4.0 kB)\n",
      "Requirement already satisfied: contourpy>=1.0.1 in /home/rravindra0463@id.sdsu.edu/.venv/lib/python3.10/site-packages (from matplotlib->imgaug->paddleocr) (1.2.0)\n",
      "Requirement already satisfied: cycler>=0.10 in /home/rravindra0463@id.sdsu.edu/.venv/lib/python3.10/site-packages (from matplotlib->imgaug->paddleocr) (0.12.1)\n",
      "Requirement already satisfied: kiwisolver>=1.3.1 in /home/rravindra0463@id.sdsu.edu/.venv/lib/python3.10/site-packages (from matplotlib->imgaug->paddleocr) (1.4.5)\n",
      "Requirement already satisfied: pyparsing>=2.3.1 in /home/rravindra0463@id.sdsu.edu/.venv/lib/python3.10/site-packages (from matplotlib->imgaug->paddleocr) (3.1.1)\n",
      "Requirement already satisfied: python-dateutil>=2.7 in /home/rravindra0463@id.sdsu.edu/.venv/lib/python3.10/site-packages (from matplotlib->imgaug->paddleocr) (2.8.2)\n",
      "Requirement already satisfied: tzdata>=2022.7 in /home/rravindra0463@id.sdsu.edu/.venv/lib/python3.10/site-packages (from pandas->visualdl->paddleocr) (2024.1)\n",
      "Requirement already satisfied: charset-normalizer<4,>=2 in /home/rravindra0463@id.sdsu.edu/.venv/lib/python3.10/site-packages (from requests->premailer->paddleocr) (3.3.2)\n",
      "Requirement already satisfied: idna<4,>=2.5 in /home/rravindra0463@id.sdsu.edu/.venv/lib/python3.10/site-packages (from requests->premailer->paddleocr) (3.6)\n",
      "Requirement already satisfied: urllib3<3,>=1.21.1 in /home/rravindra0463@id.sdsu.edu/.venv/lib/python3.10/site-packages (from requests->premailer->paddleocr) (2.2.1)\n",
      "Requirement already satisfied: certifi>=2017.4.17 in /home/rravindra0463@id.sdsu.edu/.venv/lib/python3.10/site-packages (from requests->premailer->paddleocr) (2024.2.2)\n",
      "Requirement already satisfied: MarkupSafe>=2.0 in /home/rravindra0463@id.sdsu.edu/.venv/lib/python3.10/site-packages (from Jinja2>=3.1.2->flask>=1.1.1->visualdl->paddleocr) (2.1.5)\n",
      "Downloading paddleocr-2.7.0.3-py3-none-any.whl (465 kB)\n",
      "\u001b[2K   \u001b[90m━━━━━━━━━━━━━━━━━━━━━━━━━━━━━━━━━━━━━━━━\u001b[0m \u001b[32m465.7/465.7 kB\u001b[0m \u001b[31m67.2 MB/s\u001b[0m eta \u001b[36m0:00:00\u001b[0m\n",
      "\u001b[?25hDownloading opencv_contrib_python-4.6.0.66-cp36-abi3-manylinux_2_17_x86_64.manylinux2014_x86_64.whl (67.1 MB)\n",
      "\u001b[2K   \u001b[90m━━━━━━━━━━━━━━━━━━━━━━━━━━━━━━━━━━━━━━━━\u001b[0m \u001b[32m67.1/67.1 MB\u001b[0m \u001b[31m62.2 MB/s\u001b[0m eta \u001b[36m0:00:00\u001b[0m:00:01\u001b[0m00:01\u001b[0m\n",
      "\u001b[?25hDownloading opencv_python-4.6.0.66-cp36-abi3-manylinux_2_17_x86_64.manylinux2014_x86_64.whl (60.9 MB)\n",
      "\u001b[2K   \u001b[90m━━━━━━━━━━━━━━━━━━━━━━━━━━━━━━━━━━━━━━━━\u001b[0m \u001b[32m60.9/60.9 MB\u001b[0m \u001b[31m66.5 MB/s\u001b[0m eta \u001b[36m0:00:00\u001b[0m:00:01\u001b[0m00:01\u001b[0m\n",
      "\u001b[?25hDownloading PyMuPDF-1.20.2-cp310-cp310-manylinux_2_17_x86_64.manylinux2014_x86_64.whl (8.9 MB)\n",
      "\u001b[2K   \u001b[90m━━━━━━━━━━━━━━━━━━━━━━━━━━━━━━━━━━━━━━━━\u001b[0m \u001b[32m8.9/8.9 MB\u001b[0m \u001b[31m85.8 MB/s\u001b[0m eta \u001b[36m0:00:00\u001b[0ma \u001b[36m0:00:01\u001b[0m\n",
      "\u001b[?25hDownloading attrdict-2.0.1-py2.py3-none-any.whl (9.9 kB)\n",
      "Downloading beautifulsoup4-4.12.3-py3-none-any.whl (147 kB)\n",
      "\u001b[2K   \u001b[90m━━━━━━━━━━━━━━━━━━━━━━━━━━━━━━━━━━━━━━━━\u001b[0m \u001b[32m147.9/147.9 kB\u001b[0m \u001b[31m80.7 MB/s\u001b[0m eta \u001b[36m0:00:00\u001b[0m\n",
      "\u001b[?25hDownloading Cython-3.0.9-cp310-cp310-manylinux_2_17_x86_64.manylinux2014_x86_64.whl (3.6 MB)\n",
      "\u001b[2K   \u001b[90m━━━━━━━━━━━━━━━━━━━━━━━━━━━━━━━━━━━━━━━━\u001b[0m \u001b[32m3.6/3.6 MB\u001b[0m \u001b[31m102.6 MB/s\u001b[0m eta \u001b[36m0:00:00\u001b[0m00:01\u001b[0m\n",
      "\u001b[?25hDownloading imgaug-0.4.0-py2.py3-none-any.whl (948 kB)\n",
      "\u001b[2K   \u001b[90m━━━━━━━━━━━━━━━━━━━━━━━━━━━━━━━━━━━━━━━\u001b[0m \u001b[32m948.0/948.0 kB\u001b[0m \u001b[31m110.3 MB/s\u001b[0m eta \u001b[36m0:00:00\u001b[0m\n",
      "\u001b[?25hDownloading scikit_image-0.22.0-cp310-cp310-manylinux_2_17_x86_64.manylinux2014_x86_64.whl (14.7 MB)\n",
      "\u001b[2K   \u001b[90m━━━━━━━━━━━━━━━━━━━━━━━━━━━━━━━━━━━━━━━━\u001b[0m \u001b[32m14.7/14.7 MB\u001b[0m \u001b[31m93.9 MB/s\u001b[0m eta \u001b[36m0:00:00\u001b[0m:00:01\u001b[0m00:01\u001b[0m\n",
      "\u001b[?25hDownloading lmdb-1.4.1-cp310-cp310-manylinux_2_17_x86_64.manylinux2014_x86_64.whl (299 kB)\n",
      "\u001b[2K   \u001b[90m━━━━━━━━━━━━━━━━━━━━━━━━━━━━━━━━━━━━━━━\u001b[0m \u001b[32m299.2/299.2 kB\u001b[0m \u001b[31m116.2 MB/s\u001b[0m eta \u001b[36m0:00:00\u001b[0m\n",
      "\u001b[?25hDownloading lxml-5.1.0-cp310-cp310-manylinux_2_17_x86_64.manylinux2014_x86_64.whl (8.0 MB)\n",
      "\u001b[2K   \u001b[90m━━━━━━━━━━━━━━━━━━━━━━━━━━━━━━━━━━━━━━━━\u001b[0m \u001b[32m8.0/8.0 MB\u001b[0m \u001b[31m106.2 MB/s\u001b[0m eta \u001b[36m0:00:00\u001b[0m00:01\u001b[0m00:01\u001b[0m\n",
      "\u001b[?25hDownloading openpyxl-3.1.2-py2.py3-none-any.whl (249 kB)\n",
      "\u001b[2K   \u001b[90m━━━━━━━━━━━━━━━━━━━━━━━━━━━━━━━━━━━━━━━\u001b[0m \u001b[32m250.0/250.0 kB\u001b[0m \u001b[31m107.6 MB/s\u001b[0m eta \u001b[36m0:00:00\u001b[0m\n",
      "\u001b[?25hDownloading pdf2docx-0.5.8-py3-none-any.whl (132 kB)\n",
      "\u001b[2K   \u001b[90m━━━━━━━━━━━━━━━━━━━━━━━━━━━━━━━━━━━━━━━━\u001b[0m \u001b[32m132.0/132.0 kB\u001b[0m \u001b[31m79.1 MB/s\u001b[0m eta \u001b[36m0:00:00\u001b[0m\n",
      "\u001b[?25hDownloading python_docx-1.1.0-py3-none-any.whl (239 kB)\n",
      "\u001b[2K   \u001b[90m━━━━━━━━━━━━━━━━━━━━━━━━━━━━━━━━━━━━━━━\u001b[0m \u001b[32m239.6/239.6 kB\u001b[0m \u001b[31m114.4 MB/s\u001b[0m eta \u001b[36m0:00:00\u001b[0m\n",
      "\u001b[?25hDownloading premailer-3.10.0-py2.py3-none-any.whl (19 kB)\n",
      "Downloading pyclipper-1.3.0.post5-cp310-cp310-manylinux_2_12_x86_64.manylinux2010_x86_64.whl (908 kB)\n",
      "\u001b[2K   \u001b[90m━━━━━━━━━━━━━━━━━━━━━━━━━━━━━━━━━━━━━━━\u001b[0m \u001b[32m908.3/908.3 kB\u001b[0m \u001b[31m107.8 MB/s\u001b[0m eta \u001b[36m0:00:00\u001b[0m\n",
      "\u001b[?25hDownloading rapidfuzz-3.7.0-cp310-cp310-manylinux_2_17_x86_64.manylinux2014_x86_64.whl (3.4 MB)\n",
      "\u001b[2K   \u001b[90m━━━━━━━━━━━━━━━━━━━━━━━━━━━━━━━━━━━━━━━━\u001b[0m \u001b[32m3.4/3.4 MB\u001b[0m \u001b[31m108.8 MB/s\u001b[0m eta \u001b[36m0:00:00\u001b[0m\n",
      "\u001b[?25hDownloading shapely-2.0.3-cp310-cp310-manylinux_2_17_x86_64.manylinux2014_x86_64.whl (2.5 MB)\n",
      "\u001b[2K   \u001b[90m━━━━━━━━━━━━━━━━━━━━━━━━━━━━━━━━━━━━━━━━\u001b[0m \u001b[32m2.5/2.5 MB\u001b[0m \u001b[31m109.2 MB/s\u001b[0m eta \u001b[36m0:00:00\u001b[0m\n",
      "\u001b[?25hDownloading visualdl-2.5.3-py3-none-any.whl (6.3 MB)\n",
      "\u001b[2K   \u001b[90m━━━━━━━━━━━━━━━━━━━━━━━━━━━━━━━━━━━━━━━━\u001b[0m \u001b[32m6.3/6.3 MB\u001b[0m \u001b[31m107.4 MB/s\u001b[0m eta \u001b[36m0:00:00\u001b[0ma \u001b[36m0:00:01\u001b[0m\n",
      "\u001b[?25hDownloading flask-3.0.2-py3-none-any.whl (101 kB)\n",
      "\u001b[2K   \u001b[90m━━━━━━━━━━━━━━━━━━━━━━━━━━━━━━━━━━━━━━━━\u001b[0m \u001b[32m101.3/101.3 kB\u001b[0m \u001b[31m59.5 MB/s\u001b[0m eta \u001b[36m0:00:00\u001b[0m\n",
      "\u001b[?25hDownloading flask_babel-4.0.0-py3-none-any.whl (9.6 kB)\n",
      "Downloading imageio-2.34.0-py3-none-any.whl (313 kB)\n",
      "\u001b[2K   \u001b[90m━━━━━━━━━━━━━━━━━━━━━━━━━━━━━━━━━━━━━━━\u001b[0m \u001b[32m313.4/313.4 kB\u001b[0m \u001b[31m119.8 MB/s\u001b[0m eta \u001b[36m0:00:00\u001b[0m\n",
      "\u001b[?25hDownloading lazy_loader-0.3-py3-none-any.whl (9.1 kB)\n",
      "Downloading opencv_python_headless-4.9.0.80-cp37-abi3-manylinux_2_17_x86_64.manylinux2014_x86_64.whl (49.6 MB)\n",
      "\u001b[2K   \u001b[90m━━━━━━━━━━━━━━━━━━━━━━━━━━━━━━━━━━━━━━━━\u001b[0m \u001b[32m49.6/49.6 MB\u001b[0m \u001b[31m67.0 MB/s\u001b[0m eta \u001b[36m0:00:00\u001b[0m:00:01\u001b[0m00:01\u001b[0m\n",
      "\u001b[?25hDownloading soupsieve-2.5-py3-none-any.whl (36 kB)\n",
      "Downloading tifffile-2024.2.12-py3-none-any.whl (224 kB)\n",
      "\u001b[2K   \u001b[90m━━━━━━━━━━━━━━━━━━━━━━━━━━━━━━━━━━━━━━━\u001b[0m \u001b[32m224.5/224.5 kB\u001b[0m \u001b[31m105.9 MB/s\u001b[0m eta \u001b[36m0:00:00\u001b[0m\n",
      "\u001b[?25hDownloading bce_python_sdk-0.9.5-py3-none-any.whl (329 kB)\n",
      "\u001b[2K   \u001b[90m━━━━━━━━━━━━━━━━━━━━━━━━━━━━━━━━━━━━━━━\u001b[0m \u001b[32m329.8/329.8 kB\u001b[0m \u001b[31m111.2 MB/s\u001b[0m eta \u001b[36m0:00:00\u001b[0m\n",
      "\u001b[?25hDownloading cachetools-5.3.3-py3-none-any.whl (9.3 kB)\n",
      "Downloading cssselect-1.2.0-py2.py3-none-any.whl (18 kB)\n",
      "Downloading cssutils-2.9.0-py3-none-any.whl (398 kB)\n",
      "\u001b[2K   \u001b[90m━━━━━━━━━━━━━━━━━━━━━━━━━━━━━━━━━━━━━━━\u001b[0m \u001b[32m398.5/398.5 kB\u001b[0m \u001b[31m113.0 MB/s\u001b[0m eta \u001b[36m0:00:00\u001b[0m\n",
      "\u001b[?25hDownloading et_xmlfile-1.1.0-py3-none-any.whl (4.7 kB)\n",
      "Downloading rarfile-4.1-py3-none-any.whl (28 kB)\n",
      "Downloading termcolor-2.4.0-py3-none-any.whl (7.7 kB)\n",
      "Downloading Babel-2.14.0-py3-none-any.whl (11.0 MB)\n",
      "\u001b[2K   \u001b[90m━━━━━━━━━━━━━━━━━━━━━━━━━━━━━━━━━━━━━━━━\u001b[0m \u001b[32m11.0/11.0 MB\u001b[0m \u001b[31m101.0 MB/s\u001b[0m eta \u001b[36m0:00:00\u001b[0m00:01\u001b[0m0:01\u001b[0m\n",
      "\u001b[?25hDownloading blinker-1.7.0-py3-none-any.whl (13 kB)\n",
      "Downloading click-8.1.7-py3-none-any.whl (97 kB)\n",
      "\u001b[2K   \u001b[90m━━━━━━━━━━━━━━━━━━━━━━━━━━━━━━━━━━━━━━━━\u001b[0m \u001b[32m97.9/97.9 kB\u001b[0m \u001b[31m61.6 MB/s\u001b[0m eta \u001b[36m0:00:00\u001b[0m\n",
      "\u001b[?25hDownloading future-1.0.0-py3-none-any.whl (491 kB)\n",
      "\u001b[2K   \u001b[90m━━━━━━━━━━━━━━━━━━━━━━━━━━━━━━━━━━━━━━━\u001b[0m \u001b[32m491.3/491.3 kB\u001b[0m \u001b[31m107.6 MB/s\u001b[0m eta \u001b[36m0:00:00\u001b[0m\n",
      "\u001b[?25hDownloading itsdangerous-2.1.2-py3-none-any.whl (15 kB)\n",
      "Downloading pycryptodome-3.20.0-cp35-abi3-manylinux_2_17_x86_64.manylinux2014_x86_64.whl (2.1 MB)\n",
      "\u001b[2K   \u001b[90m━━━━━━━━━━━━━━━━━━━━━━━━━━━━━━━━━━━━━━━━\u001b[0m \u001b[32m2.1/2.1 MB\u001b[0m \u001b[31m104.2 MB/s\u001b[0m eta \u001b[36m0:00:00\u001b[0m\n",
      "\u001b[?25hDownloading werkzeug-3.0.1-py3-none-any.whl (226 kB)\n",
      "\u001b[2K   \u001b[90m━━━━━━━━━━━━━━━━━━━━━━━━━━━━━━━━━━━━━━━\u001b[0m \u001b[32m226.7/226.7 kB\u001b[0m \u001b[31m115.3 MB/s\u001b[0m eta \u001b[36m0:00:00\u001b[0m\n",
      "\u001b[?25hBuilding wheels for collected packages: fire\n",
      "  Building wheel for fire (pyproject.toml) ... \u001b[?25ldone\n",
      "\u001b[?25h  Created wheel for fire: filename=fire-0.6.0-py2.py3-none-any.whl size=117029 sha256=eff879f7d0eec6be20c6fdb730b688bf82b3143b6603b53365b6cef407bff438\n",
      "  Stored in directory: /home/rravindra0463@id.sdsu.edu/.cache/pip/wheels/d6/6d/5d/5b73fa0f46d01a793713f8859201361e9e581ced8c75e5c6a3\n",
      "Successfully built fire\n",
      "Installing collected packages: pyclipper, lmdb, Werkzeug, tifffile, termcolor, soupsieve, shapely, rarfile, rapidfuzz, PyMuPDF, pycryptodome, opencv-python-headless, opencv-python, opencv-contrib-python, lxml, lazy_loader, itsdangerous, imageio, future, et-xmlfile, cython, cssutils, cssselect, click, cachetools, blinker, Babel, attrdict, scikit-image, python-docx, premailer, openpyxl, flask, fire, beautifulsoup4, bce-python-sdk, pdf2docx, imgaug, Flask-Babel, visualdl, paddleocr\n",
      "Successfully installed Babel-2.14.0 Flask-Babel-4.0.0 PyMuPDF-1.20.2 Werkzeug-3.0.1 attrdict-2.0.1 bce-python-sdk-0.9.5 beautifulsoup4-4.12.3 blinker-1.7.0 cachetools-5.3.3 click-8.1.7 cssselect-1.2.0 cssutils-2.9.0 cython-3.0.9 et-xmlfile-1.1.0 fire-0.6.0 flask-3.0.2 future-1.0.0 imageio-2.34.0 imgaug-0.4.0 itsdangerous-2.1.2 lazy_loader-0.3 lmdb-1.4.1 lxml-5.1.0 opencv-contrib-python-4.6.0.66 opencv-python-4.6.0.66 opencv-python-headless-4.9.0.80 openpyxl-3.1.2 paddleocr-2.7.0.3 pdf2docx-0.5.8 premailer-3.10.0 pyclipper-1.3.0.post5 pycryptodome-3.20.0 python-docx-1.1.0 rapidfuzz-3.7.0 rarfile-4.1 scikit-image-0.22.0 shapely-2.0.3 soupsieve-2.5 termcolor-2.4.0 tifffile-2024.2.12 visualdl-2.5.3\n"
     ]
    }
   ],
   "source": [
    "# Install paddle OCR\n",
    "!pip install paddleocr"
   ]
  },
  {
   "cell_type": "code",
   "execution_count": 4,
   "metadata": {},
   "outputs": [
    {
     "name": "stdout",
     "output_type": "stream",
     "text": [
      "Cloning into 'PaddleOCR'...\n",
      "remote: Enumerating objects: 47838, done.\u001b[K\n",
      "remote: Counting objects: 100% (189/189), done.\u001b[K\n",
      "remote: Compressing objects: 100% (151/151), done.\u001b[K\n",
      "remote: Total 47838 (delta 68), reused 118 (delta 34), pack-reused 47649\u001b[K\n",
      "Receiving objects: 100% (47838/47838), 345.30 MiB | 16.82 MiB/s, done.\n",
      "Resolving deltas: 100% (33744/33744), done.\n"
     ]
    }
   ],
   "source": [
    "# Clone paddle OCR repo - get FONTS for visualization\n",
    "!git clone https://github.com/PaddlePaddle/PaddleOCR"
   ]
  },
  {
   "cell_type": "code",
   "execution_count": 5,
   "metadata": {},
   "outputs": [
    {
     "name": "stdout",
     "output_type": "stream",
     "text": [
      "Requirement already satisfied: PaddleOCR in /home/rravindra0463@id.sdsu.edu/.venv/lib/python3.10/site-packages (2.7.0.3)\n",
      "Requirement already satisfied: shapely in /home/rravindra0463@id.sdsu.edu/.venv/lib/python3.10/site-packages (from PaddleOCR) (2.0.3)\n",
      "Requirement already satisfied: scikit-image in /home/rravindra0463@id.sdsu.edu/.venv/lib/python3.10/site-packages (from PaddleOCR) (0.22.0)\n",
      "Requirement already satisfied: imgaug in /home/rravindra0463@id.sdsu.edu/.venv/lib/python3.10/site-packages (from PaddleOCR) (0.4.0)\n",
      "Requirement already satisfied: pyclipper in /home/rravindra0463@id.sdsu.edu/.venv/lib/python3.10/site-packages (from PaddleOCR) (1.3.0.post5)\n",
      "Requirement already satisfied: lmdb in /home/rravindra0463@id.sdsu.edu/.venv/lib/python3.10/site-packages (from PaddleOCR) (1.4.1)\n",
      "Requirement already satisfied: tqdm in /home/rravindra0463@id.sdsu.edu/.venv/lib/python3.10/site-packages (from PaddleOCR) (4.66.2)\n",
      "Requirement already satisfied: numpy in /home/rravindra0463@id.sdsu.edu/.venv/lib/python3.10/site-packages (from PaddleOCR) (1.26.4)\n",
      "Requirement already satisfied: visualdl in /home/rravindra0463@id.sdsu.edu/.venv/lib/python3.10/site-packages (from PaddleOCR) (2.5.3)\n",
      "Requirement already satisfied: rapidfuzz in /home/rravindra0463@id.sdsu.edu/.venv/lib/python3.10/site-packages (from PaddleOCR) (3.7.0)\n",
      "Requirement already satisfied: opencv-python<=4.6.0.66 in /home/rravindra0463@id.sdsu.edu/.venv/lib/python3.10/site-packages (from PaddleOCR) (4.6.0.66)\n",
      "Requirement already satisfied: opencv-contrib-python<=4.6.0.66 in /home/rravindra0463@id.sdsu.edu/.venv/lib/python3.10/site-packages (from PaddleOCR) (4.6.0.66)\n",
      "Requirement already satisfied: cython in /home/rravindra0463@id.sdsu.edu/.venv/lib/python3.10/site-packages (from PaddleOCR) (3.0.9)\n",
      "Requirement already satisfied: lxml in /home/rravindra0463@id.sdsu.edu/.venv/lib/python3.10/site-packages (from PaddleOCR) (5.1.0)\n",
      "Requirement already satisfied: premailer in /home/rravindra0463@id.sdsu.edu/.venv/lib/python3.10/site-packages (from PaddleOCR) (3.10.0)\n",
      "Requirement already satisfied: openpyxl in /home/rravindra0463@id.sdsu.edu/.venv/lib/python3.10/site-packages (from PaddleOCR) (3.1.2)\n",
      "Requirement already satisfied: attrdict in /home/rravindra0463@id.sdsu.edu/.venv/lib/python3.10/site-packages (from PaddleOCR) (2.0.1)\n",
      "Requirement already satisfied: PyMuPDF<1.21.0 in /home/rravindra0463@id.sdsu.edu/.venv/lib/python3.10/site-packages (from PaddleOCR) (1.20.2)\n",
      "Requirement already satisfied: Pillow>=10.0.0 in /home/rravindra0463@id.sdsu.edu/.venv/lib/python3.10/site-packages (from PaddleOCR) (10.2.0)\n",
      "Requirement already satisfied: pyyaml in /home/rravindra0463@id.sdsu.edu/.venv/lib/python3.10/site-packages (from PaddleOCR) (6.0.1)\n",
      "Requirement already satisfied: python-docx in /home/rravindra0463@id.sdsu.edu/.venv/lib/python3.10/site-packages (from PaddleOCR) (1.1.0)\n",
      "Requirement already satisfied: beautifulsoup4 in /home/rravindra0463@id.sdsu.edu/.venv/lib/python3.10/site-packages (from PaddleOCR) (4.12.3)\n",
      "Requirement already satisfied: fonttools>=4.24.0 in /home/rravindra0463@id.sdsu.edu/.venv/lib/python3.10/site-packages (from PaddleOCR) (4.49.0)\n",
      "Requirement already satisfied: fire>=0.3.0 in /home/rravindra0463@id.sdsu.edu/.venv/lib/python3.10/site-packages (from PaddleOCR) (0.6.0)\n",
      "Requirement already satisfied: pdf2docx in /home/rravindra0463@id.sdsu.edu/.venv/lib/python3.10/site-packages (from PaddleOCR) (0.5.8)\n",
      "Requirement already satisfied: six in /home/rravindra0463@id.sdsu.edu/.venv/lib/python3.10/site-packages (from fire>=0.3.0->PaddleOCR) (1.16.0)\n",
      "Requirement already satisfied: termcolor in /home/rravindra0463@id.sdsu.edu/.venv/lib/python3.10/site-packages (from fire>=0.3.0->PaddleOCR) (2.4.0)\n",
      "Requirement already satisfied: soupsieve>1.2 in /home/rravindra0463@id.sdsu.edu/.venv/lib/python3.10/site-packages (from beautifulsoup4->PaddleOCR) (2.5)\n",
      "Requirement already satisfied: scipy in /home/rravindra0463@id.sdsu.edu/.venv/lib/python3.10/site-packages (from imgaug->PaddleOCR) (1.12.0)\n",
      "Requirement already satisfied: matplotlib in /home/rravindra0463@id.sdsu.edu/.venv/lib/python3.10/site-packages (from imgaug->PaddleOCR) (3.8.3)\n",
      "Requirement already satisfied: imageio in /home/rravindra0463@id.sdsu.edu/.venv/lib/python3.10/site-packages (from imgaug->PaddleOCR) (2.34.0)\n",
      "Requirement already satisfied: networkx>=2.8 in /home/rravindra0463@id.sdsu.edu/.venv/lib/python3.10/site-packages (from scikit-image->PaddleOCR) (3.2.1)\n",
      "Requirement already satisfied: tifffile>=2022.8.12 in /home/rravindra0463@id.sdsu.edu/.venv/lib/python3.10/site-packages (from scikit-image->PaddleOCR) (2024.2.12)\n",
      "Requirement already satisfied: packaging>=21 in /home/rravindra0463@id.sdsu.edu/.venv/lib/python3.10/site-packages (from scikit-image->PaddleOCR) (23.2)\n",
      "Requirement already satisfied: lazy_loader>=0.3 in /home/rravindra0463@id.sdsu.edu/.venv/lib/python3.10/site-packages (from scikit-image->PaddleOCR) (0.3)\n",
      "Requirement already satisfied: et-xmlfile in /home/rravindra0463@id.sdsu.edu/.venv/lib/python3.10/site-packages (from openpyxl->PaddleOCR) (1.1.0)\n",
      "Requirement already satisfied: opencv-python-headless>=4.5 in /home/rravindra0463@id.sdsu.edu/.venv/lib/python3.10/site-packages (from pdf2docx->PaddleOCR) (4.9.0.80)\n",
      "Requirement already satisfied: typing-extensions in /home/rravindra0463@id.sdsu.edu/.venv/lib/python3.10/site-packages (from python-docx->PaddleOCR) (4.9.0)\n",
      "Requirement already satisfied: cssselect in /home/rravindra0463@id.sdsu.edu/.venv/lib/python3.10/site-packages (from premailer->PaddleOCR) (1.2.0)\n",
      "Requirement already satisfied: cssutils in /home/rravindra0463@id.sdsu.edu/.venv/lib/python3.10/site-packages (from premailer->PaddleOCR) (2.9.0)\n",
      "Requirement already satisfied: requests in /home/rravindra0463@id.sdsu.edu/.venv/lib/python3.10/site-packages (from premailer->PaddleOCR) (2.31.0)\n",
      "Requirement already satisfied: cachetools in /home/rravindra0463@id.sdsu.edu/.venv/lib/python3.10/site-packages (from premailer->PaddleOCR) (5.3.3)\n",
      "Requirement already satisfied: bce-python-sdk in /home/rravindra0463@id.sdsu.edu/.venv/lib/python3.10/site-packages (from visualdl->PaddleOCR) (0.9.5)\n",
      "Requirement already satisfied: flask>=1.1.1 in /home/rravindra0463@id.sdsu.edu/.venv/lib/python3.10/site-packages (from visualdl->PaddleOCR) (3.0.2)\n",
      "Requirement already satisfied: Flask-Babel>=3.0.0 in /home/rravindra0463@id.sdsu.edu/.venv/lib/python3.10/site-packages (from visualdl->PaddleOCR) (4.0.0)\n",
      "Requirement already satisfied: protobuf>=3.20.0 in /home/rravindra0463@id.sdsu.edu/.venv/lib/python3.10/site-packages (from visualdl->PaddleOCR) (5.26.0)\n",
      "Requirement already satisfied: pandas in /home/rravindra0463@id.sdsu.edu/.venv/lib/python3.10/site-packages (from visualdl->PaddleOCR) (2.2.0)\n",
      "Requirement already satisfied: rarfile in /home/rravindra0463@id.sdsu.edu/.venv/lib/python3.10/site-packages (from visualdl->PaddleOCR) (4.1)\n",
      "Requirement already satisfied: psutil in /home/rravindra0463@id.sdsu.edu/.venv/lib/python3.10/site-packages (from visualdl->PaddleOCR) (5.9.8)\n",
      "Requirement already satisfied: Werkzeug>=3.0.0 in /home/rravindra0463@id.sdsu.edu/.venv/lib/python3.10/site-packages (from flask>=1.1.1->visualdl->PaddleOCR) (3.0.1)\n",
      "Requirement already satisfied: Jinja2>=3.1.2 in /home/rravindra0463@id.sdsu.edu/.venv/lib/python3.10/site-packages (from flask>=1.1.1->visualdl->PaddleOCR) (3.1.3)\n",
      "Requirement already satisfied: itsdangerous>=2.1.2 in /home/rravindra0463@id.sdsu.edu/.venv/lib/python3.10/site-packages (from flask>=1.1.1->visualdl->PaddleOCR) (2.1.2)\n",
      "Requirement already satisfied: click>=8.1.3 in /home/rravindra0463@id.sdsu.edu/.venv/lib/python3.10/site-packages (from flask>=1.1.1->visualdl->PaddleOCR) (8.1.7)\n",
      "Requirement already satisfied: blinker>=1.6.2 in /home/rravindra0463@id.sdsu.edu/.venv/lib/python3.10/site-packages (from flask>=1.1.1->visualdl->PaddleOCR) (1.7.0)\n",
      "Requirement already satisfied: Babel>=2.12 in /home/rravindra0463@id.sdsu.edu/.venv/lib/python3.10/site-packages (from Flask-Babel>=3.0.0->visualdl->PaddleOCR) (2.14.0)\n",
      "Requirement already satisfied: pytz>=2022.7 in /home/rravindra0463@id.sdsu.edu/.venv/lib/python3.10/site-packages (from Flask-Babel>=3.0.0->visualdl->PaddleOCR) (2024.1)\n",
      "Requirement already satisfied: pycryptodome>=3.8.0 in /home/rravindra0463@id.sdsu.edu/.venv/lib/python3.10/site-packages (from bce-python-sdk->visualdl->PaddleOCR) (3.20.0)\n",
      "Requirement already satisfied: future>=0.6.0 in /home/rravindra0463@id.sdsu.edu/.venv/lib/python3.10/site-packages (from bce-python-sdk->visualdl->PaddleOCR) (1.0.0)\n",
      "Requirement already satisfied: contourpy>=1.0.1 in /home/rravindra0463@id.sdsu.edu/.venv/lib/python3.10/site-packages (from matplotlib->imgaug->PaddleOCR) (1.2.0)\n",
      "Requirement already satisfied: cycler>=0.10 in /home/rravindra0463@id.sdsu.edu/.venv/lib/python3.10/site-packages (from matplotlib->imgaug->PaddleOCR) (0.12.1)\n",
      "Requirement already satisfied: kiwisolver>=1.3.1 in /home/rravindra0463@id.sdsu.edu/.venv/lib/python3.10/site-packages (from matplotlib->imgaug->PaddleOCR) (1.4.5)\n",
      "Requirement already satisfied: pyparsing>=2.3.1 in /home/rravindra0463@id.sdsu.edu/.venv/lib/python3.10/site-packages (from matplotlib->imgaug->PaddleOCR) (3.1.1)\n",
      "Requirement already satisfied: python-dateutil>=2.7 in /home/rravindra0463@id.sdsu.edu/.venv/lib/python3.10/site-packages (from matplotlib->imgaug->PaddleOCR) (2.8.2)\n",
      "Requirement already satisfied: tzdata>=2022.7 in /home/rravindra0463@id.sdsu.edu/.venv/lib/python3.10/site-packages (from pandas->visualdl->PaddleOCR) (2024.1)\n",
      "Requirement already satisfied: charset-normalizer<4,>=2 in /home/rravindra0463@id.sdsu.edu/.venv/lib/python3.10/site-packages (from requests->premailer->PaddleOCR) (3.3.2)\n",
      "Requirement already satisfied: idna<4,>=2.5 in /home/rravindra0463@id.sdsu.edu/.venv/lib/python3.10/site-packages (from requests->premailer->PaddleOCR) (3.6)\n",
      "Requirement already satisfied: urllib3<3,>=1.21.1 in /home/rravindra0463@id.sdsu.edu/.venv/lib/python3.10/site-packages (from requests->premailer->PaddleOCR) (2.2.1)\n",
      "Requirement already satisfied: certifi>=2017.4.17 in /home/rravindra0463@id.sdsu.edu/.venv/lib/python3.10/site-packages (from requests->premailer->PaddleOCR) (2024.2.2)\n",
      "Requirement already satisfied: MarkupSafe>=2.0 in /home/rravindra0463@id.sdsu.edu/.venv/lib/python3.10/site-packages (from Jinja2>=3.1.2->flask>=1.1.1->visualdl->PaddleOCR) (2.1.5)\n"
     ]
    }
   ],
   "source": [
    "!pip install PaddleOCR"
   ]
  },
  {
   "cell_type": "code",
   "execution_count": 6,
   "metadata": {},
   "outputs": [
    {
     "name": "stdout",
     "output_type": "stream",
     "text": [
      "Requirement already satisfied: paddleocr in /home/rravindra0463@id.sdsu.edu/.venv/lib/python3.10/site-packages (2.7.0.3)\n",
      "Requirement already satisfied: shapely in /home/rravindra0463@id.sdsu.edu/.venv/lib/python3.10/site-packages (from paddleocr) (2.0.3)\n",
      "Requirement already satisfied: scikit-image in /home/rravindra0463@id.sdsu.edu/.venv/lib/python3.10/site-packages (from paddleocr) (0.22.0)\n",
      "Requirement already satisfied: imgaug in /home/rravindra0463@id.sdsu.edu/.venv/lib/python3.10/site-packages (from paddleocr) (0.4.0)\n",
      "Requirement already satisfied: pyclipper in /home/rravindra0463@id.sdsu.edu/.venv/lib/python3.10/site-packages (from paddleocr) (1.3.0.post5)\n",
      "Requirement already satisfied: lmdb in /home/rravindra0463@id.sdsu.edu/.venv/lib/python3.10/site-packages (from paddleocr) (1.4.1)\n",
      "Requirement already satisfied: tqdm in /home/rravindra0463@id.sdsu.edu/.venv/lib/python3.10/site-packages (from paddleocr) (4.66.2)\n",
      "Requirement already satisfied: numpy in /home/rravindra0463@id.sdsu.edu/.venv/lib/python3.10/site-packages (from paddleocr) (1.26.4)\n",
      "Requirement already satisfied: visualdl in /home/rravindra0463@id.sdsu.edu/.venv/lib/python3.10/site-packages (from paddleocr) (2.5.3)\n",
      "Requirement already satisfied: rapidfuzz in /home/rravindra0463@id.sdsu.edu/.venv/lib/python3.10/site-packages (from paddleocr) (3.7.0)\n",
      "Requirement already satisfied: opencv-python<=4.6.0.66 in /home/rravindra0463@id.sdsu.edu/.venv/lib/python3.10/site-packages (from paddleocr) (4.6.0.66)\n",
      "Requirement already satisfied: opencv-contrib-python<=4.6.0.66 in /home/rravindra0463@id.sdsu.edu/.venv/lib/python3.10/site-packages (from paddleocr) (4.6.0.66)\n",
      "Requirement already satisfied: cython in /home/rravindra0463@id.sdsu.edu/.venv/lib/python3.10/site-packages (from paddleocr) (3.0.9)\n",
      "Requirement already satisfied: lxml in /home/rravindra0463@id.sdsu.edu/.venv/lib/python3.10/site-packages (from paddleocr) (5.1.0)\n",
      "Requirement already satisfied: premailer in /home/rravindra0463@id.sdsu.edu/.venv/lib/python3.10/site-packages (from paddleocr) (3.10.0)\n",
      "Requirement already satisfied: openpyxl in /home/rravindra0463@id.sdsu.edu/.venv/lib/python3.10/site-packages (from paddleocr) (3.1.2)\n",
      "Requirement already satisfied: attrdict in /home/rravindra0463@id.sdsu.edu/.venv/lib/python3.10/site-packages (from paddleocr) (2.0.1)\n",
      "Requirement already satisfied: PyMuPDF<1.21.0 in /home/rravindra0463@id.sdsu.edu/.venv/lib/python3.10/site-packages (from paddleocr) (1.20.2)\n",
      "Requirement already satisfied: Pillow>=10.0.0 in /home/rravindra0463@id.sdsu.edu/.venv/lib/python3.10/site-packages (from paddleocr) (10.2.0)\n",
      "Requirement already satisfied: pyyaml in /home/rravindra0463@id.sdsu.edu/.venv/lib/python3.10/site-packages (from paddleocr) (6.0.1)\n",
      "Requirement already satisfied: python-docx in /home/rravindra0463@id.sdsu.edu/.venv/lib/python3.10/site-packages (from paddleocr) (1.1.0)\n",
      "Requirement already satisfied: beautifulsoup4 in /home/rravindra0463@id.sdsu.edu/.venv/lib/python3.10/site-packages (from paddleocr) (4.12.3)\n",
      "Requirement already satisfied: fonttools>=4.24.0 in /home/rravindra0463@id.sdsu.edu/.venv/lib/python3.10/site-packages (from paddleocr) (4.49.0)\n",
      "Requirement already satisfied: fire>=0.3.0 in /home/rravindra0463@id.sdsu.edu/.venv/lib/python3.10/site-packages (from paddleocr) (0.6.0)\n",
      "Requirement already satisfied: pdf2docx in /home/rravindra0463@id.sdsu.edu/.venv/lib/python3.10/site-packages (from paddleocr) (0.5.8)\n",
      "Requirement already satisfied: six in /home/rravindra0463@id.sdsu.edu/.venv/lib/python3.10/site-packages (from fire>=0.3.0->paddleocr) (1.16.0)\n",
      "Requirement already satisfied: termcolor in /home/rravindra0463@id.sdsu.edu/.venv/lib/python3.10/site-packages (from fire>=0.3.0->paddleocr) (2.4.0)\n",
      "Requirement already satisfied: soupsieve>1.2 in /home/rravindra0463@id.sdsu.edu/.venv/lib/python3.10/site-packages (from beautifulsoup4->paddleocr) (2.5)\n",
      "Requirement already satisfied: scipy in /home/rravindra0463@id.sdsu.edu/.venv/lib/python3.10/site-packages (from imgaug->paddleocr) (1.12.0)\n",
      "Requirement already satisfied: matplotlib in /home/rravindra0463@id.sdsu.edu/.venv/lib/python3.10/site-packages (from imgaug->paddleocr) (3.8.3)\n",
      "Requirement already satisfied: imageio in /home/rravindra0463@id.sdsu.edu/.venv/lib/python3.10/site-packages (from imgaug->paddleocr) (2.34.0)\n",
      "Requirement already satisfied: networkx>=2.8 in /home/rravindra0463@id.sdsu.edu/.venv/lib/python3.10/site-packages (from scikit-image->paddleocr) (3.2.1)\n",
      "Requirement already satisfied: tifffile>=2022.8.12 in /home/rravindra0463@id.sdsu.edu/.venv/lib/python3.10/site-packages (from scikit-image->paddleocr) (2024.2.12)\n",
      "Requirement already satisfied: packaging>=21 in /home/rravindra0463@id.sdsu.edu/.venv/lib/python3.10/site-packages (from scikit-image->paddleocr) (23.2)\n",
      "Requirement already satisfied: lazy_loader>=0.3 in /home/rravindra0463@id.sdsu.edu/.venv/lib/python3.10/site-packages (from scikit-image->paddleocr) (0.3)\n",
      "Requirement already satisfied: et-xmlfile in /home/rravindra0463@id.sdsu.edu/.venv/lib/python3.10/site-packages (from openpyxl->paddleocr) (1.1.0)\n",
      "Requirement already satisfied: opencv-python-headless>=4.5 in /home/rravindra0463@id.sdsu.edu/.venv/lib/python3.10/site-packages (from pdf2docx->paddleocr) (4.9.0.80)\n",
      "Requirement already satisfied: typing-extensions in /home/rravindra0463@id.sdsu.edu/.venv/lib/python3.10/site-packages (from python-docx->paddleocr) (4.9.0)\n",
      "Requirement already satisfied: cssselect in /home/rravindra0463@id.sdsu.edu/.venv/lib/python3.10/site-packages (from premailer->paddleocr) (1.2.0)\n",
      "Requirement already satisfied: cssutils in /home/rravindra0463@id.sdsu.edu/.venv/lib/python3.10/site-packages (from premailer->paddleocr) (2.9.0)\n",
      "Requirement already satisfied: requests in /home/rravindra0463@id.sdsu.edu/.venv/lib/python3.10/site-packages (from premailer->paddleocr) (2.31.0)\n",
      "Requirement already satisfied: cachetools in /home/rravindra0463@id.sdsu.edu/.venv/lib/python3.10/site-packages (from premailer->paddleocr) (5.3.3)\n",
      "Requirement already satisfied: bce-python-sdk in /home/rravindra0463@id.sdsu.edu/.venv/lib/python3.10/site-packages (from visualdl->paddleocr) (0.9.5)\n",
      "Requirement already satisfied: flask>=1.1.1 in /home/rravindra0463@id.sdsu.edu/.venv/lib/python3.10/site-packages (from visualdl->paddleocr) (3.0.2)\n",
      "Requirement already satisfied: Flask-Babel>=3.0.0 in /home/rravindra0463@id.sdsu.edu/.venv/lib/python3.10/site-packages (from visualdl->paddleocr) (4.0.0)\n",
      "Requirement already satisfied: protobuf>=3.20.0 in /home/rravindra0463@id.sdsu.edu/.venv/lib/python3.10/site-packages (from visualdl->paddleocr) (5.26.0)\n",
      "Requirement already satisfied: pandas in /home/rravindra0463@id.sdsu.edu/.venv/lib/python3.10/site-packages (from visualdl->paddleocr) (2.2.0)\n",
      "Requirement already satisfied: rarfile in /home/rravindra0463@id.sdsu.edu/.venv/lib/python3.10/site-packages (from visualdl->paddleocr) (4.1)\n",
      "Requirement already satisfied: psutil in /home/rravindra0463@id.sdsu.edu/.venv/lib/python3.10/site-packages (from visualdl->paddleocr) (5.9.8)\n",
      "Requirement already satisfied: Werkzeug>=3.0.0 in /home/rravindra0463@id.sdsu.edu/.venv/lib/python3.10/site-packages (from flask>=1.1.1->visualdl->paddleocr) (3.0.1)\n",
      "Requirement already satisfied: Jinja2>=3.1.2 in /home/rravindra0463@id.sdsu.edu/.venv/lib/python3.10/site-packages (from flask>=1.1.1->visualdl->paddleocr) (3.1.3)\n",
      "Requirement already satisfied: itsdangerous>=2.1.2 in /home/rravindra0463@id.sdsu.edu/.venv/lib/python3.10/site-packages (from flask>=1.1.1->visualdl->paddleocr) (2.1.2)\n",
      "Requirement already satisfied: click>=8.1.3 in /home/rravindra0463@id.sdsu.edu/.venv/lib/python3.10/site-packages (from flask>=1.1.1->visualdl->paddleocr) (8.1.7)\n",
      "Requirement already satisfied: blinker>=1.6.2 in /home/rravindra0463@id.sdsu.edu/.venv/lib/python3.10/site-packages (from flask>=1.1.1->visualdl->paddleocr) (1.7.0)\n",
      "Requirement already satisfied: Babel>=2.12 in /home/rravindra0463@id.sdsu.edu/.venv/lib/python3.10/site-packages (from Flask-Babel>=3.0.0->visualdl->paddleocr) (2.14.0)\n",
      "Requirement already satisfied: pytz>=2022.7 in /home/rravindra0463@id.sdsu.edu/.venv/lib/python3.10/site-packages (from Flask-Babel>=3.0.0->visualdl->paddleocr) (2024.1)\n",
      "Requirement already satisfied: pycryptodome>=3.8.0 in /home/rravindra0463@id.sdsu.edu/.venv/lib/python3.10/site-packages (from bce-python-sdk->visualdl->paddleocr) (3.20.0)\n",
      "Requirement already satisfied: future>=0.6.0 in /home/rravindra0463@id.sdsu.edu/.venv/lib/python3.10/site-packages (from bce-python-sdk->visualdl->paddleocr) (1.0.0)\n",
      "Requirement already satisfied: contourpy>=1.0.1 in /home/rravindra0463@id.sdsu.edu/.venv/lib/python3.10/site-packages (from matplotlib->imgaug->paddleocr) (1.2.0)\n",
      "Requirement already satisfied: cycler>=0.10 in /home/rravindra0463@id.sdsu.edu/.venv/lib/python3.10/site-packages (from matplotlib->imgaug->paddleocr) (0.12.1)\n",
      "Requirement already satisfied: kiwisolver>=1.3.1 in /home/rravindra0463@id.sdsu.edu/.venv/lib/python3.10/site-packages (from matplotlib->imgaug->paddleocr) (1.4.5)\n",
      "Requirement already satisfied: pyparsing>=2.3.1 in /home/rravindra0463@id.sdsu.edu/.venv/lib/python3.10/site-packages (from matplotlib->imgaug->paddleocr) (3.1.1)\n",
      "Requirement already satisfied: python-dateutil>=2.7 in /home/rravindra0463@id.sdsu.edu/.venv/lib/python3.10/site-packages (from matplotlib->imgaug->paddleocr) (2.8.2)\n",
      "Requirement already satisfied: tzdata>=2022.7 in /home/rravindra0463@id.sdsu.edu/.venv/lib/python3.10/site-packages (from pandas->visualdl->paddleocr) (2024.1)\n",
      "Requirement already satisfied: charset-normalizer<4,>=2 in /home/rravindra0463@id.sdsu.edu/.venv/lib/python3.10/site-packages (from requests->premailer->paddleocr) (3.3.2)\n",
      "Requirement already satisfied: idna<4,>=2.5 in /home/rravindra0463@id.sdsu.edu/.venv/lib/python3.10/site-packages (from requests->premailer->paddleocr) (3.6)\n",
      "Requirement already satisfied: urllib3<3,>=1.21.1 in /home/rravindra0463@id.sdsu.edu/.venv/lib/python3.10/site-packages (from requests->premailer->paddleocr) (2.2.1)\n",
      "Requirement already satisfied: certifi>=2017.4.17 in /home/rravindra0463@id.sdsu.edu/.venv/lib/python3.10/site-packages (from requests->premailer->paddleocr) (2024.2.2)\n",
      "Requirement already satisfied: MarkupSafe>=2.0 in /home/rravindra0463@id.sdsu.edu/.venv/lib/python3.10/site-packages (from Jinja2>=3.1.2->flask>=1.1.1->visualdl->paddleocr) (2.1.5)\n",
      "Note: you may need to restart the kernel to use updated packages.\n"
     ]
    }
   ],
   "source": [
    "pip install paddleocr"
   ]
  },
  {
   "cell_type": "code",
   "execution_count": 7,
   "metadata": {},
   "outputs": [
    {
     "name": "stdout",
     "output_type": "stream",
     "text": [
      "Collecting paddlepaddle\n",
      "  Downloading paddlepaddle-2.6.1-cp310-cp310-manylinux1_x86_64.whl.metadata (8.6 kB)\n",
      "Collecting httpx (from paddlepaddle)\n",
      "  Downloading httpx-0.27.0-py3-none-any.whl.metadata (7.2 kB)\n",
      "Requirement already satisfied: numpy>=1.13 in /home/rravindra0463@id.sdsu.edu/.venv/lib/python3.10/site-packages (from paddlepaddle) (1.26.4)\n",
      "Requirement already satisfied: Pillow in /home/rravindra0463@id.sdsu.edu/.venv/lib/python3.10/site-packages (from paddlepaddle) (10.2.0)\n",
      "Requirement already satisfied: decorator in /home/rravindra0463@id.sdsu.edu/.venv/lib/python3.10/site-packages (from paddlepaddle) (5.1.1)\n",
      "Requirement already satisfied: astor in /home/rravindra0463@id.sdsu.edu/.venv/lib/python3.10/site-packages (from paddlepaddle) (0.8.1)\n",
      "Requirement already satisfied: opt-einsum==3.3.0 in /home/rravindra0463@id.sdsu.edu/.venv/lib/python3.10/site-packages (from paddlepaddle) (3.3.0)\n",
      "Requirement already satisfied: protobuf>=3.20.2 in /home/rravindra0463@id.sdsu.edu/.venv/lib/python3.10/site-packages (from paddlepaddle) (5.26.0)\n",
      "Requirement already satisfied: anyio in /home/rravindra0463@id.sdsu.edu/.venv/lib/python3.10/site-packages (from httpx->paddlepaddle) (4.3.0)\n",
      "Requirement already satisfied: certifi in /home/rravindra0463@id.sdsu.edu/.venv/lib/python3.10/site-packages (from httpx->paddlepaddle) (2024.2.2)\n",
      "Collecting httpcore==1.* (from httpx->paddlepaddle)\n",
      "  Downloading httpcore-1.0.4-py3-none-any.whl.metadata (20 kB)\n",
      "Requirement already satisfied: idna in /home/rravindra0463@id.sdsu.edu/.venv/lib/python3.10/site-packages (from httpx->paddlepaddle) (3.6)\n",
      "Requirement already satisfied: sniffio in /home/rravindra0463@id.sdsu.edu/.venv/lib/python3.10/site-packages (from httpx->paddlepaddle) (1.3.0)\n",
      "Collecting h11<0.15,>=0.13 (from httpcore==1.*->httpx->paddlepaddle)\n",
      "  Downloading h11-0.14.0-py3-none-any.whl.metadata (8.2 kB)\n",
      "Requirement already satisfied: exceptiongroup>=1.0.2 in /home/rravindra0463@id.sdsu.edu/.venv/lib/python3.10/site-packages (from anyio->httpx->paddlepaddle) (1.2.0)\n",
      "Requirement already satisfied: typing-extensions>=4.1 in /home/rravindra0463@id.sdsu.edu/.venv/lib/python3.10/site-packages (from anyio->httpx->paddlepaddle) (4.9.0)\n",
      "Downloading paddlepaddle-2.6.1-cp310-cp310-manylinux1_x86_64.whl (125.9 MB)\n",
      "\u001b[2K   \u001b[90m━━━━━━━━━━━━━━━━━━━━━━━━━━━━━━━━━━━━━━━━\u001b[0m \u001b[32m125.9/125.9 MB\u001b[0m \u001b[31m46.0 MB/s\u001b[0m eta \u001b[36m0:00:00\u001b[0m00:01\u001b[0m00:01\u001b[0m\n",
      "\u001b[?25hDownloading httpx-0.27.0-py3-none-any.whl (75 kB)\n",
      "\u001b[2K   \u001b[90m━━━━━━━━━━━━━━━━━━━━━━━━━━━━━━━━━━━━━━━━\u001b[0m \u001b[32m75.6/75.6 kB\u001b[0m \u001b[31m41.0 MB/s\u001b[0m eta \u001b[36m0:00:00\u001b[0m\n",
      "\u001b[?25hDownloading httpcore-1.0.4-py3-none-any.whl (77 kB)\n",
      "\u001b[2K   \u001b[90m━━━━━━━━━━━━━━━━━━━━━━━━━━━━━━━━━━━━━━━━\u001b[0m \u001b[32m77.8/77.8 kB\u001b[0m \u001b[31m45.7 MB/s\u001b[0m eta \u001b[36m0:00:00\u001b[0m\n",
      "\u001b[?25hDownloading h11-0.14.0-py3-none-any.whl (58 kB)\n",
      "\u001b[2K   \u001b[90m━━━━━━━━━━━━━━━━━━━━━━━━━━━━━━━━━━━━━━━━\u001b[0m \u001b[32m58.3/58.3 kB\u001b[0m \u001b[31m30.5 MB/s\u001b[0m eta \u001b[36m0:00:00\u001b[0m\n",
      "\u001b[?25hInstalling collected packages: h11, httpcore, httpx, paddlepaddle\n",
      "Successfully installed h11-0.14.0 httpcore-1.0.4 httpx-0.27.0 paddlepaddle-2.6.1\n",
      "Note: you may need to restart the kernel to use updated packages.\n"
     ]
    }
   ],
   "source": [
    "pip install paddlepaddle"
   ]
  },
  {
   "cell_type": "code",
   "execution_count": 8,
   "metadata": {},
   "outputs": [],
   "source": [
    "from paddleocr import PaddleOCR, draw_ocr # main OCR dependencies\n",
    "from matplotlib import pyplot as plt # plot images\n",
    "import cv2 #opencv\n",
    "import os # folder directory navigation"
   ]
  },
  {
   "cell_type": "markdown",
   "metadata": {},
   "source": [
    "## 2. Instantiate Model and Detect"
   ]
  },
  {
   "cell_type": "code",
   "execution_count": 9,
   "metadata": {},
   "outputs": [
    {
     "name": "stdout",
     "output_type": "stream",
     "text": [
      "download https://paddleocr.bj.bcebos.com/PP-OCRv3/english/en_PP-OCRv3_det_infer.tar to /home/rravindra0463@id.sdsu.edu/.paddleocr/whl/det/en/en_PP-OCRv3_det_infer/en_PP-OCRv3_det_infer.tar\n"
     ]
    },
    {
     "name": "stderr",
     "output_type": "stream",
     "text": [
      "100%|██████████| 4.00M/4.00M [00:15<00:00, 255kiB/s] \n"
     ]
    },
    {
     "name": "stdout",
     "output_type": "stream",
     "text": [
      "download https://paddleocr.bj.bcebos.com/PP-OCRv4/english/en_PP-OCRv4_rec_infer.tar to /home/rravindra0463@id.sdsu.edu/.paddleocr/whl/rec/en/en_PP-OCRv4_rec_infer/en_PP-OCRv4_rec_infer.tar\n"
     ]
    },
    {
     "name": "stderr",
     "output_type": "stream",
     "text": [
      "100%|██████████| 10.2M/10.2M [00:10<00:00, 943kiB/s] \n"
     ]
    },
    {
     "name": "stdout",
     "output_type": "stream",
     "text": [
      "download https://paddleocr.bj.bcebos.com/dygraph_v2.0/ch/ch_ppocr_mobile_v2.0_cls_infer.tar to /home/rravindra0463@id.sdsu.edu/.paddleocr/whl/cls/ch_ppocr_mobile_v2.0_cls_infer/ch_ppocr_mobile_v2.0_cls_infer.tar\n"
     ]
    },
    {
     "name": "stderr",
     "output_type": "stream",
     "text": [
      "100%|██████████| 2.19M/2.19M [00:12<00:00, 169kiB/s] "
     ]
    },
    {
     "name": "stdout",
     "output_type": "stream",
     "text": [
      "[2024/03/24 21:04:18] ppocr DEBUG: Namespace(help='==SUPPRESS==', use_gpu=False, use_xpu=False, use_npu=False, ir_optim=True, use_tensorrt=False, min_subgraph_size=15, precision='fp32', gpu_mem=500, gpu_id=0, image_dir=None, page_num=0, det_algorithm='DB', det_model_dir='/home/rravindra0463@id.sdsu.edu/.paddleocr/whl/det/en/en_PP-OCRv3_det_infer', det_limit_side_len=960, det_limit_type='max', det_box_type='quad', det_db_thresh=0.3, det_db_box_thresh=0.6, det_db_unclip_ratio=1.5, max_batch_size=10, use_dilation=False, det_db_score_mode='fast', det_east_score_thresh=0.8, det_east_cover_thresh=0.1, det_east_nms_thresh=0.2, det_sast_score_thresh=0.5, det_sast_nms_thresh=0.2, det_pse_thresh=0, det_pse_box_thresh=0.85, det_pse_min_area=16, det_pse_scale=1, scales=[8, 16, 32], alpha=1.0, beta=1.0, fourier_degree=5, rec_algorithm='SVTR_LCNet', rec_model_dir='/home/rravindra0463@id.sdsu.edu/.paddleocr/whl/rec/en/en_PP-OCRv4_rec_infer', rec_image_inverse=True, rec_image_shape='3, 48, 320', rec_batch_num=6, max_text_length=25, rec_char_dict_path='/home/rravindra0463@id.sdsu.edu/.venv/lib/python3.10/site-packages/paddleocr/ppocr/utils/en_dict.txt', use_space_char=True, vis_font_path='./doc/fonts/simfang.ttf', drop_score=0.5, e2e_algorithm='PGNet', e2e_model_dir=None, e2e_limit_side_len=768, e2e_limit_type='max', e2e_pgnet_score_thresh=0.5, e2e_char_dict_path='./ppocr/utils/ic15_dict.txt', e2e_pgnet_valid_set='totaltext', e2e_pgnet_mode='fast', use_angle_cls=False, cls_model_dir='/home/rravindra0463@id.sdsu.edu/.paddleocr/whl/cls/ch_ppocr_mobile_v2.0_cls_infer', cls_image_shape='3, 48, 192', label_list=['0', '180'], cls_batch_num=6, cls_thresh=0.9, enable_mkldnn=False, cpu_threads=10, use_pdserving=False, warmup=False, sr_model_dir=None, sr_image_shape='3, 32, 128', sr_batch_num=1, draw_img_save_dir='./inference_results', save_crop_res=False, crop_res_save_dir='./output', use_mp=False, total_process_num=1, process_id=0, benchmark=False, save_log_path='./log_output/', show_log=True, use_onnx=False, output='./output', table_max_len=488, table_algorithm='TableAttn', table_model_dir=None, merge_no_span_structure=True, table_char_dict_path=None, layout_model_dir=None, layout_dict_path=None, layout_score_threshold=0.5, layout_nms_threshold=0.5, kie_algorithm='LayoutXLM', ser_model_dir=None, re_model_dir=None, use_visual_backbone=True, ser_dict_path='../train_data/XFUND/class_list_xfun.txt', ocr_order_method=None, mode='structure', image_orientation=False, layout=True, table=True, ocr=True, recovery=False, use_pdf2docx_api=False, invert=False, binarize=False, alphacolor=(255, 255, 255), lang='en', det=True, rec=True, type='ocr', ocr_version='PP-OCRv4', structure_version='PP-StructureV2')\n"
     ]
    },
    {
     "name": "stderr",
     "output_type": "stream",
     "text": [
      "\n"
     ]
    }
   ],
   "source": [
    "# Setup model\n",
    "ocr_model = PaddleOCR(lang='en')"
   ]
  },
  {
   "cell_type": "code",
   "execution_count": null,
   "metadata": {},
   "outputs": [],
   "source": [
    "from heic2png import HEIC2PNG\n",
    "\n",
    "if __name__ == '__main__':\n",
    "    heic_img = HEIC2PNG('/home/rravindra0463@id.sdsu.edu/ml/datasets/beans_0.HEIC', quality=90)  # Specify the quality of the converted image\n",
    "    heic_img.save()  # The converted image will be saved as `test.png`"
   ]
  },
  {
   "cell_type": "code",
   "execution_count": 11,
   "metadata": {},
   "outputs": [
    {
     "name": "stdout",
     "output_type": "stream",
     "text": [
      "[2024/03/24 21:10:15] ppocr DEBUG: Namespace(help='==SUPPRESS==', use_gpu=False, use_xpu=False, use_npu=False, ir_optim=True, use_tensorrt=False, min_subgraph_size=15, precision='fp32', gpu_mem=500, gpu_id=0, image_dir=None, page_num=0, det_algorithm='DB', det_model_dir='/home/rravindra0463@id.sdsu.edu/.paddleocr/whl/det/en/en_PP-OCRv3_det_infer', det_limit_side_len=960, det_limit_type='max', det_box_type='quad', det_db_thresh=0.3, det_db_box_thresh=0.6, det_db_unclip_ratio=1.5, max_batch_size=10, use_dilation=False, det_db_score_mode='fast', det_east_score_thresh=0.8, det_east_cover_thresh=0.1, det_east_nms_thresh=0.2, det_sast_score_thresh=0.5, det_sast_nms_thresh=0.2, det_pse_thresh=0, det_pse_box_thresh=0.85, det_pse_min_area=16, det_pse_scale=1, scales=[8, 16, 32], alpha=1.0, beta=1.0, fourier_degree=5, rec_algorithm='SVTR_LCNet', rec_model_dir='/home/rravindra0463@id.sdsu.edu/.paddleocr/whl/rec/en/en_PP-OCRv4_rec_infer', rec_image_inverse=True, rec_image_shape='3, 48, 320', rec_batch_num=6, max_text_length=25, rec_char_dict_path='/home/rravindra0463@id.sdsu.edu/.venv/lib/python3.10/site-packages/paddleocr/ppocr/utils/en_dict.txt', use_space_char=True, vis_font_path='./doc/fonts/simfang.ttf', drop_score=0.5, e2e_algorithm='PGNet', e2e_model_dir=None, e2e_limit_side_len=768, e2e_limit_type='max', e2e_pgnet_score_thresh=0.5, e2e_char_dict_path='./ppocr/utils/ic15_dict.txt', e2e_pgnet_valid_set='totaltext', e2e_pgnet_mode='fast', use_angle_cls=False, cls_model_dir='/home/rravindra0463@id.sdsu.edu/.paddleocr/whl/cls/ch_ppocr_mobile_v2.0_cls_infer', cls_image_shape='3, 48, 192', label_list=['0', '180'], cls_batch_num=6, cls_thresh=0.9, enable_mkldnn=False, cpu_threads=10, use_pdserving=False, warmup=False, sr_model_dir=None, sr_image_shape='3, 32, 128', sr_batch_num=1, draw_img_save_dir='./inference_results', save_crop_res=False, crop_res_save_dir='./output', use_mp=False, total_process_num=1, process_id=0, benchmark=False, save_log_path='./log_output/', show_log=True, use_onnx=False, output='./output', table_max_len=488, table_algorithm='TableAttn', table_model_dir=None, merge_no_span_structure=True, table_char_dict_path=None, layout_model_dir=None, layout_dict_path=None, layout_score_threshold=0.5, layout_nms_threshold=0.5, kie_algorithm='LayoutXLM', ser_model_dir=None, re_model_dir=None, use_visual_backbone=True, ser_dict_path='../train_data/XFUND/class_list_xfun.txt', ocr_order_method=None, mode='structure', image_orientation=False, layout=True, table=True, ocr=True, recovery=False, use_pdf2docx_api=False, invert=False, binarize=False, alphacolor=(255, 255, 255), lang='en', det=True, rec=True, type='ocr', ocr_version='PP-OCRv4', structure_version='PP-StructureV2')\n",
      "[2024/03/24 21:10:16] ppocr WARNING: Since the angle classifier is not initialized, it will not be used during the forward process\n",
      "[2024/03/24 21:10:16] ppocr DEBUG: dt_boxes num : 8, elapsed : 0.20143890380859375\n",
      "[2024/03/24 21:10:16] ppocr DEBUG: rec_res num  : 8, elapsed : 0.1553058624267578\n",
      "Great Value Cut Green Beans Ficked andPacked Sarne Day U\n"
     ]
    }
   ],
   "source": [
    "import os\n",
    "import numpy as np\n",
    "from PIL import Image\n",
    "from paddleocr import PaddleOCR\n",
    "\n",
    "# Setup OCR model with English language\n",
    "ocr_model = PaddleOCR(lang='en')\n",
    "\n",
    "# Path to the HEIC image file\n",
    "heic_file_path = \"/home/rravindra0463@id.sdsu.edu/ml/datasets/beans_0.HEIC\"\n",
    "\n",
    "\n",
    "# Convert HEIC image to PNG format\n",
    "heic_img = Image.open(heic_file_path)\n",
    "png_img = np.array(heic_img.convert('RGB'))\n",
    "\n",
    "# Perform OCR on the image\n",
    "result = ocr_model.ocr(png_img)\n",
    "\n",
    "# Extract text from OCR result\n",
    "text = \"\"\n",
    "if result is not None:\n",
    "    for line in result:\n",
    "        for word in line:\n",
    "            text += word[1][0] + ' '\n",
    "else:\n",
    "    print(\"No text detected in image:\", heic_file_path)\n",
    "\n",
    "print(text.strip())  # Print the extracted text (or empty string if no text detected)\n"
   ]
  },
  {
   "cell_type": "code",
   "execution_count": 12,
   "metadata": {},
   "outputs": [],
   "source": [
    "text = text.split()\n",
    "text = [i.lower() for i in text]"
   ]
  },
  {
   "cell_type": "code",
   "execution_count": 15,
   "metadata": {},
   "outputs": [],
   "source": [
    "#change this to NER's column\n",
    "\n",
    "ingredients = ['beans','salt', 'butter', 'sugar', 'onion', 'water', 'eggs', 'oliveoil', 'flour', 'milk', 'garliccloves', 'pepper', 'brownsugar', 'garlic', 'all-purposeflour', 'bakingpowder', 'egg', 'saltandpepper', 'parmesancheese', 'lemonjuice', 'bakingsoda', 'vegetableoil', 'vanilla', 'blackpepper', 'cinnamon', 'tomatoes', 'sourcream', 'garlicpowder', 'vanillaextract', 'oil', 'honey', 'onions', 'creamcheese', 'garlicclove', 'celery', 'cheddarcheese', 'unsaltedbutter', 'soysauce']"
   ]
  },
  {
   "cell_type": "code",
   "execution_count": 16,
   "metadata": {},
   "outputs": [
    {
     "name": "stdout",
     "output_type": "stream",
     "text": [
      "{'beans'}\n"
     ]
    }
   ],
   "source": [
    "detected_ingredient= set(ingredients).intersection(text)\n",
    "print(detected_ingredient)"
   ]
  },
  {
   "cell_type": "markdown",
   "metadata": {},
   "source": [
    "# GERMAN to ENGLISH"
   ]
  },
  {
   "cell_type": "code",
   "execution_count": 18,
   "metadata": {},
   "outputs": [
    {
     "name": "stdout",
     "output_type": "stream",
     "text": [
      "Collecting googletrans==4.0.0-rc1\n",
      "  Downloading googletrans-4.0.0rc1.tar.gz (20 kB)\n",
      "  Installing build dependencies ... \u001b[?25ldone\n",
      "\u001b[?25h  Getting requirements to build wheel ... \u001b[?25ldone\n",
      "\u001b[?25h  Installing backend dependencies ... \u001b[?25ldone\n",
      "\u001b[?25h  Preparing metadata (pyproject.toml) ... \u001b[?25ldone\n",
      "\u001b[?25hCollecting httpx==0.13.3 (from googletrans==4.0.0-rc1)\n",
      "  Downloading httpx-0.13.3-py3-none-any.whl.metadata (25 kB)\n",
      "Requirement already satisfied: certifi in /home/rravindra0463@id.sdsu.edu/.venv/lib/python3.10/site-packages (from httpx==0.13.3->googletrans==4.0.0-rc1) (2024.2.2)\n",
      "Collecting hstspreload (from httpx==0.13.3->googletrans==4.0.0-rc1)\n",
      "  Downloading hstspreload-2024.3.1-py3-none-any.whl.metadata (2.1 kB)\n",
      "Requirement already satisfied: sniffio in /home/rravindra0463@id.sdsu.edu/.venv/lib/python3.10/site-packages (from httpx==0.13.3->googletrans==4.0.0-rc1) (1.3.0)\n",
      "Collecting chardet==3.* (from httpx==0.13.3->googletrans==4.0.0-rc1)\n",
      "  Downloading chardet-3.0.4-py2.py3-none-any.whl.metadata (3.2 kB)\n",
      "Collecting idna==2.* (from httpx==0.13.3->googletrans==4.0.0-rc1)\n",
      "  Downloading idna-2.10-py2.py3-none-any.whl.metadata (9.1 kB)\n",
      "Collecting rfc3986<2,>=1.3 (from httpx==0.13.3->googletrans==4.0.0-rc1)\n",
      "  Downloading rfc3986-1.5.0-py2.py3-none-any.whl.metadata (6.5 kB)\n",
      "Collecting httpcore==0.9.* (from httpx==0.13.3->googletrans==4.0.0-rc1)\n",
      "  Downloading httpcore-0.9.1-py3-none-any.whl.metadata (4.6 kB)\n",
      "Collecting h11<0.10,>=0.8 (from httpcore==0.9.*->httpx==0.13.3->googletrans==4.0.0-rc1)\n",
      "  Downloading h11-0.9.0-py2.py3-none-any.whl.metadata (8.1 kB)\n",
      "Collecting h2==3.* (from httpcore==0.9.*->httpx==0.13.3->googletrans==4.0.0-rc1)\n",
      "  Downloading h2-3.2.0-py2.py3-none-any.whl.metadata (32 kB)\n",
      "Collecting hyperframe<6,>=5.2.0 (from h2==3.*->httpcore==0.9.*->httpx==0.13.3->googletrans==4.0.0-rc1)\n",
      "  Downloading hyperframe-5.2.0-py2.py3-none-any.whl.metadata (7.2 kB)\n",
      "Collecting hpack<4,>=3.0 (from h2==3.*->httpcore==0.9.*->httpx==0.13.3->googletrans==4.0.0-rc1)\n",
      "  Downloading hpack-3.0.0-py2.py3-none-any.whl.metadata (7.0 kB)\n",
      "Downloading httpx-0.13.3-py3-none-any.whl (55 kB)\n",
      "\u001b[2K   \u001b[90m━━━━━━━━━━━━━━━━━━━━━━━━━━━━━━━━━━━━━━━━\u001b[0m \u001b[32m55.1/55.1 kB\u001b[0m \u001b[31m34.0 MB/s\u001b[0m eta \u001b[36m0:00:00\u001b[0m\n",
      "\u001b[?25hDownloading chardet-3.0.4-py2.py3-none-any.whl (133 kB)\n",
      "\u001b[2K   \u001b[90m━━━━━━━━━━━━━━━━━━━━━━━━━━━━━━━━━━━━━━━━\u001b[0m \u001b[32m133.4/133.4 kB\u001b[0m \u001b[31m27.6 MB/s\u001b[0m eta \u001b[36m0:00:00\u001b[0m\n",
      "\u001b[?25hDownloading httpcore-0.9.1-py3-none-any.whl (42 kB)\n",
      "\u001b[2K   \u001b[90m━━━━━━━━━━━━━━━━━━━━━━━━━━━━━━━━━━━━━━━━\u001b[0m \u001b[32m42.6/42.6 kB\u001b[0m \u001b[31m26.8 MB/s\u001b[0m eta \u001b[36m0:00:00\u001b[0m\n",
      "\u001b[?25hDownloading idna-2.10-py2.py3-none-any.whl (58 kB)\n",
      "\u001b[2K   \u001b[90m━━━━━━━━━━━━━━━━━━━━━━━━━━━━━━━━━━━━━━━━\u001b[0m \u001b[32m58.8/58.8 kB\u001b[0m \u001b[31m37.8 MB/s\u001b[0m eta \u001b[36m0:00:00\u001b[0m\n",
      "\u001b[?25hDownloading h2-3.2.0-py2.py3-none-any.whl (65 kB)\n",
      "\u001b[2K   \u001b[90m━━━━━━━━━━━━━━━━━━━━━━━━━━━━━━━━━━━━━━━━\u001b[0m \u001b[32m65.0/65.0 kB\u001b[0m \u001b[31m41.6 MB/s\u001b[0m eta \u001b[36m0:00:00\u001b[0m\n",
      "\u001b[?25hDownloading rfc3986-1.5.0-py2.py3-none-any.whl (31 kB)\n",
      "Downloading hstspreload-2024.3.1-py3-none-any.whl (1.1 MB)\n",
      "\u001b[2K   \u001b[90m━━━━━━━━━━━━━━━━━━━━━━━━━━━━━━━━━━━━━━━━\u001b[0m \u001b[32m1.1/1.1 MB\u001b[0m \u001b[31m58.1 MB/s\u001b[0m eta \u001b[36m0:00:00\u001b[0m\n",
      "\u001b[?25hDownloading h11-0.9.0-py2.py3-none-any.whl (53 kB)\n",
      "\u001b[2K   \u001b[90m━━━━━━━━━━━━━━━━━━━━━━━━━━━━━━━━━━━━━━━━\u001b[0m \u001b[32m53.6/53.6 kB\u001b[0m \u001b[31m34.8 MB/s\u001b[0m eta \u001b[36m0:00:00\u001b[0m\n",
      "\u001b[?25hDownloading hpack-3.0.0-py2.py3-none-any.whl (38 kB)\n",
      "Downloading hyperframe-5.2.0-py2.py3-none-any.whl (12 kB)\n",
      "Building wheels for collected packages: googletrans\n",
      "  Building wheel for googletrans (pyproject.toml) ... \u001b[?25ldone\n",
      "\u001b[?25h  Created wheel for googletrans: filename=googletrans-4.0.0rc1-py3-none-any.whl size=17395 sha256=199202f705123de89d76517e88d0197699e76f2ada5a3b0383db731e999a498f\n",
      "  Stored in directory: /home/rravindra0463@id.sdsu.edu/.cache/pip/wheels/c0/59/9f/7372f0cf70160fe61b528532e1a7c8498c4becd6bcffb022de\n",
      "Successfully built googletrans\n",
      "Installing collected packages: rfc3986, hyperframe, hpack, h11, chardet, idna, hstspreload, h2, httpcore, httpx, googletrans\n",
      "  Attempting uninstall: h11\n",
      "    Found existing installation: h11 0.14.0\n",
      "    Uninstalling h11-0.14.0:\n",
      "      Successfully uninstalled h11-0.14.0\n",
      "  Attempting uninstall: idna\n",
      "    Found existing installation: idna 3.6\n",
      "    Uninstalling idna-3.6:\n",
      "      Successfully uninstalled idna-3.6\n",
      "  Attempting uninstall: httpcore\n",
      "    Found existing installation: httpcore 1.0.4\n",
      "    Uninstalling httpcore-1.0.4:\n",
      "      Successfully uninstalled httpcore-1.0.4\n",
      "  Attempting uninstall: httpx\n",
      "    Found existing installation: httpx 0.27.0\n",
      "    Uninstalling httpx-0.27.0:\n",
      "      Successfully uninstalled httpx-0.27.0\n",
      "Successfully installed chardet-3.0.4 googletrans-4.0.0rc1 h11-0.9.0 h2-3.2.0 hpack-3.0.0 hstspreload-2024.3.1 httpcore-0.9.1 httpx-0.13.3 hyperframe-5.2.0 idna-2.10 rfc3986-1.5.0\n"
     ]
    }
   ],
   "source": [
    "#German to English\n",
    "\n",
    "!pip install googletrans==4.0.0-rc1"
   ]
  },
  {
   "cell_type": "code",
   "execution_count": 51,
   "metadata": {},
   "outputs": [
    {
     "name": "stdout",
     "output_type": "stream",
     "text": [
      "[2024/03/24 21:55:46] ppocr DEBUG: Namespace(help='==SUPPRESS==', use_gpu=False, use_xpu=False, use_npu=False, ir_optim=True, use_tensorrt=False, min_subgraph_size=15, precision='fp32', gpu_mem=500, gpu_id=0, image_dir=None, page_num=0, det_algorithm='DB', det_model_dir='/home/rravindra0463@id.sdsu.edu/.paddleocr/whl/det/en/en_PP-OCRv3_det_infer', det_limit_side_len=960, det_limit_type='max', det_box_type='quad', det_db_thresh=0.3, det_db_box_thresh=0.6, det_db_unclip_ratio=1.5, max_batch_size=10, use_dilation=False, det_db_score_mode='fast', det_east_score_thresh=0.8, det_east_cover_thresh=0.1, det_east_nms_thresh=0.2, det_sast_score_thresh=0.5, det_sast_nms_thresh=0.2, det_pse_thresh=0, det_pse_box_thresh=0.85, det_pse_min_area=16, det_pse_scale=1, scales=[8, 16, 32], alpha=1.0, beta=1.0, fourier_degree=5, rec_algorithm='SVTR_LCNet', rec_model_dir='/home/rravindra0463@id.sdsu.edu/.paddleocr/whl/rec/en/en_PP-OCRv4_rec_infer', rec_image_inverse=True, rec_image_shape='3, 48, 320', rec_batch_num=6, max_text_length=25, rec_char_dict_path='/home/rravindra0463@id.sdsu.edu/.venv/lib/python3.10/site-packages/paddleocr/ppocr/utils/en_dict.txt', use_space_char=True, vis_font_path='./doc/fonts/simfang.ttf', drop_score=0.5, e2e_algorithm='PGNet', e2e_model_dir=None, e2e_limit_side_len=768, e2e_limit_type='max', e2e_pgnet_score_thresh=0.5, e2e_char_dict_path='./ppocr/utils/ic15_dict.txt', e2e_pgnet_valid_set='totaltext', e2e_pgnet_mode='fast', use_angle_cls=False, cls_model_dir='/home/rravindra0463@id.sdsu.edu/.paddleocr/whl/cls/ch_ppocr_mobile_v2.0_cls_infer', cls_image_shape='3, 48, 192', label_list=['0', '180'], cls_batch_num=6, cls_thresh=0.9, enable_mkldnn=False, cpu_threads=10, use_pdserving=False, warmup=False, sr_model_dir=None, sr_image_shape='3, 32, 128', sr_batch_num=1, draw_img_save_dir='./inference_results', save_crop_res=False, crop_res_save_dir='./output', use_mp=False, total_process_num=1, process_id=0, benchmark=False, save_log_path='./log_output/', show_log=True, use_onnx=False, output='./output', table_max_len=488, table_algorithm='TableAttn', table_model_dir=None, merge_no_span_structure=True, table_char_dict_path=None, layout_model_dir=None, layout_dict_path=None, layout_score_threshold=0.5, layout_nms_threshold=0.5, kie_algorithm='LayoutXLM', ser_model_dir=None, re_model_dir=None, use_visual_backbone=True, ser_dict_path='../train_data/XFUND/class_list_xfun.txt', ocr_order_method=None, mode='structure', image_orientation=False, layout=True, table=True, ocr=True, recovery=False, use_pdf2docx_api=False, invert=False, binarize=False, alphacolor=(255, 255, 255), lang='en', det=True, rec=True, type='ocr', ocr_version='PP-OCRv4', structure_version='PP-StructureV2')\n",
      "[2024/03/24 21:55:46] ppocr WARNING: Since the angle classifier is not initialized, it will not be used during the forward process\n",
      "[2024/03/24 21:55:46] ppocr DEBUG: dt_boxes num : 7, elapsed : 0.0535280704498291\n",
      "[2024/03/24 21:55:46] ppocr DEBUG: rec_res num  : 7, elapsed : 0.13728547096252441\n",
      "HAN SANO BULGARIA JOGHURT STICHFEST 3,5% gere.f 25\n"
     ]
    }
   ],
   "source": [
    "import os\n",
    "import numpy as np\n",
    "from PIL import Image\n",
    "from paddleocr import PaddleOCR\n",
    "\n",
    "# Setup OCR model with English language\n",
    "ocr_model = PaddleOCR(lang='en')\n",
    "\n",
    "# Path to the HEIC image file\n",
    "png_file_path = \"/home/rravindra0463@id.sdsu.edu/ml/datasets/Screenshot 2024-03-24 at 9.55.01 PM.png\"\n",
    "\n",
    "\n",
    "# Perform OCR on the image\n",
    "result = ocr_model.ocr(png_file_path)\n",
    "\n",
    "# Extract text from OCR result\n",
    "text = \"\"\n",
    "if result is not None:\n",
    "    for line in result:\n",
    "        for word in line:\n",
    "            text += word[1][0] + ' '\n",
    "else:\n",
    "    print(\"No text detected in image:\", png_file_path)\n",
    "\n",
    "print(text.strip())  # Print the extracted text (or empty string if no text detected)\n",
    "\n",
    "\n",
    "\n",
    "\n"
   ]
  },
  {
   "cell_type": "code",
   "execution_count": 52,
   "metadata": {},
   "outputs": [
    {
     "data": {
      "text/plain": [
       "'HAN SANO BULGARIA JOGHURT STICHFEST 3,5% gere.f 25 '"
      ]
     },
     "execution_count": 52,
     "metadata": {},
     "output_type": "execute_result"
    }
   ],
   "source": [
    "text"
   ]
  },
  {
   "cell_type": "markdown",
   "metadata": {},
   "source": []
  },
  {
   "cell_type": "code",
   "execution_count": 53,
   "metadata": {},
   "outputs": [
    {
     "data": {
      "text/plain": [
       "'HAN SANO BULGARIA YOGHURT FINISH 3.5% gere.f 25'"
      ]
     },
     "execution_count": 53,
     "metadata": {},
     "output_type": "execute_result"
    }
   ],
   "source": [
    "translated = GoogleTranslator(source='auto', target='en').translate(text)\n",
    "translated"
   ]
  },
  {
   "cell_type": "code",
   "execution_count": null,
   "metadata": {},
   "outputs": [],
   "source": []
  }
 ],
 "metadata": {
  "kernelspec": {
   "display_name": ".venv",
   "language": "python",
   "name": "python3"
  },
  "language_info": {
   "codemirror_mode": {
    "name": "ipython",
    "version": 3
   },
   "file_extension": ".py",
   "mimetype": "text/x-python",
   "name": "python",
   "nbconvert_exporter": "python",
   "pygments_lexer": "ipython3",
   "version": "3.10.12"
  }
 },
 "nbformat": 4,
 "nbformat_minor": 2
}
